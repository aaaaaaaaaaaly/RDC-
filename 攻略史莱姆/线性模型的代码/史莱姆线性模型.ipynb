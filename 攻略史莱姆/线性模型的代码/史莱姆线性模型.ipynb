{
 "cells": [
  {
   "cell_type": "markdown",
   "id": "0c5e8a4c",
   "metadata": {},
   "source": [
    "## 导入数据和库"
   ]
  },
  {
   "cell_type": "code",
   "execution_count": 1,
   "id": "28f9b832",
   "metadata": {},
   "outputs": [
    {
     "name": "stdout",
     "output_type": "stream",
     "text": [
      "\n"
     ]
    }
   ],
   "source": [
    "import numpy as np\n",
    "import matplotlib.pyplot as plt\n",
    "import pandas as pd\n",
    "import math\n",
    "import seaborn as sns\n",
    "\n",
    "#对中文字符的处理\n",
    "plt.rcParams['font.sans-serif']=['SimHei']\n",
    "\n",
    "#让坐标轴能够正常显示正负号\n",
    "plt.rcParams['axes.unicode_minus']=False\n",
    "\n",
    "#一元\n",
    "data1=pd.read_csv(\"data_2_clean.csv\")\n",
    "#多元\n",
    "data2=pd.read_csv(\"data_3_clean.csv\")\n",
    "\n",
    "#把数据随机打乱\n",
    "data1.sample(frac=1).reset_index(drop=True)\n",
    "data2.sample(frac=1).reset_index(drop=True)\n",
    "print(\"\")"
   ]
  },
  {
   "cell_type": "markdown",
   "id": "656ff945",
   "metadata": {},
   "source": [
    "## 定义函数"
   ]
  },
  {
   "cell_type": "code",
   "execution_count": 3,
   "id": "2b2d3703",
   "metadata": {},
   "outputs": [],
   "source": [
    "#正规方程\n",
    "def normal_equation (data_x,data_y):\n",
    "    \"\"\"\n",
    "    传进来的x是m*(n+1)\n",
    "    y的shape是1*m\n",
    "    \"\"\"\n",
    "    data_x=np.matrix(data_x)\n",
    "    data_y=np.matrix(data_y)\n",
    "    #theta=((n+1)*m*m*(n+1))^-1*((1+n)*m*m*1)=(n+1)*1\n",
    "    theta=np.linalg.inv(data_x.T.dot(data_x)).dot(data_x.T.dot(data_y.T))\n",
    "    return theta #(n+1)*1\n",
    "\n",
    "#损失函数\n",
    "def cost_function(theta,data_x,data_y):\n",
    "    data_x=np.matrix(data_x)\n",
    "    data_y=np.matrix(data_y)\n",
    "    m=len(data_x)\n",
    "    #1*m\n",
    "    #1*(n+1)*(1+n)*m=1*m\n",
    "    predict=theta.T.dot(data_x.T)\n",
    "    loss=np.sum(np.power(data_y-predict,2))/len(data_y)\n",
    "    \n",
    "    return loss,predict"
   ]
  },
  {
   "cell_type": "markdown",
   "id": "73944d6c",
   "metadata": {},
   "source": [
    "## 给数据集命名，处理数据"
   ]
  },
  {
   "cell_type": "markdown",
   "id": "385fb68b",
   "metadata": {},
   "source": [
    "**划分数据集**"
   ]
  },
  {
   "cell_type": "code",
   "execution_count": 4,
   "id": "3b62aa78",
   "metadata": {},
   "outputs": [],
   "source": [
    "data_y_train=data1['购买金额'][:10000]\n",
    "data_y_test=data1['购买金额'][10000:17723]\n",
    "data_x1_train=data1[['累计购买金额']][:10000]\n",
    "data_x1_test=data1[['累计购买金额']][10000:17723]\n",
    "data_x2_train=data2[['购买金额','30内参加活动','距离最近一次下单天数','累计购买金额']][:10000]\n",
    "data_x2_test=data2[['购买金额','30内参加活动','距离最近一次下单天数','累计购买金额']][10000:17723]"
   ]
  },
  {
   "cell_type": "markdown",
   "id": "cec94477",
   "metadata": {},
   "source": [
    "**给x增加一列x0，就是常数b**"
   ]
  },
  {
   "cell_type": "code",
   "execution_count": 7,
   "id": "ab25dedf",
   "metadata": {},
   "outputs": [],
   "source": [
    "#让data_x变成（n+1）列\n",
    "data_x1_train.insert(0,'x0',1)\n",
    "data_x1_test.insert(0,'x0',1)\n",
    "data_x2_test.insert(0,'x0',1)"
   ]
  },
  {
   "cell_type": "markdown",
   "id": "00af6a35",
   "metadata": {},
   "source": [
    "## 一元的线性模型"
   ]
  },
  {
   "cell_type": "markdown",
   "id": "52b4fdaf",
   "metadata": {},
   "source": [
    "## 正规方程"
   ]
  },
  {
   "cell_type": "markdown",
   "id": "75ed6cf8",
   "metadata": {},
   "source": [
    "- 检查data_y的shape"
   ]
  },
  {
   "cell_type": "code",
   "execution_count": 8,
   "id": "583259b3",
   "metadata": {},
   "outputs": [
    {
     "data": {
      "text/plain": [
       "(10000,)"
      ]
     },
     "execution_count": 8,
     "metadata": {},
     "output_type": "execute_result"
    }
   ],
   "source": [
    "data_y_train.shape"
   ]
  },
  {
   "cell_type": "markdown",
   "id": "ef0c9809",
   "metadata": {},
   "source": [
    "- 上面已经，给data_x增加一列，代表常系数b,也就是x0"
   ]
  },
  {
   "cell_type": "code",
   "execution_count": 8,
   "id": "10d2d7a2",
   "metadata": {},
   "outputs": [
    {
     "data": {
      "text/html": [
       "<div>\n",
       "<style scoped>\n",
       "    .dataframe tbody tr th:only-of-type {\n",
       "        vertical-align: middle;\n",
       "    }\n",
       "\n",
       "    .dataframe tbody tr th {\n",
       "        vertical-align: top;\n",
       "    }\n",
       "\n",
       "    .dataframe thead th {\n",
       "        text-align: right;\n",
       "    }\n",
       "</style>\n",
       "<table border=\"1\" class=\"dataframe\">\n",
       "  <thead>\n",
       "    <tr style=\"text-align: right;\">\n",
       "      <th></th>\n",
       "      <th>购买金额</th>\n",
       "      <th>距离最近一次下单天数</th>\n",
       "      <th>累计购买金额</th>\n",
       "    </tr>\n",
       "  </thead>\n",
       "  <tbody>\n",
       "    <tr>\n",
       "      <th>0</th>\n",
       "      <td>72.98</td>\n",
       "      <td>4.26</td>\n",
       "      <td>2343.870</td>\n",
       "    </tr>\n",
       "    <tr>\n",
       "      <th>1</th>\n",
       "      <td>200.99</td>\n",
       "      <td>0.94</td>\n",
       "      <td>8539.872</td>\n",
       "    </tr>\n",
       "    <tr>\n",
       "      <th>2</th>\n",
       "      <td>69.98</td>\n",
       "      <td>4.29</td>\n",
       "      <td>1687.646</td>\n",
       "    </tr>\n",
       "    <tr>\n",
       "      <th>3</th>\n",
       "      <td>319.99</td>\n",
       "      <td>15.13</td>\n",
       "      <td>2811.491</td>\n",
       "    </tr>\n",
       "    <tr>\n",
       "      <th>4</th>\n",
       "      <td>140.00</td>\n",
       "      <td>11.45</td>\n",
       "      <td>769.990</td>\n",
       "    </tr>\n",
       "    <tr>\n",
       "      <th>...</th>\n",
       "      <td>...</td>\n",
       "      <td>...</td>\n",
       "      <td>...</td>\n",
       "    </tr>\n",
       "    <tr>\n",
       "      <th>9995</th>\n",
       "      <td>1034.29</td>\n",
       "      <td>14.74</td>\n",
       "      <td>1138.160</td>\n",
       "    </tr>\n",
       "    <tr>\n",
       "      <th>9996</th>\n",
       "      <td>538.98</td>\n",
       "      <td>8.52</td>\n",
       "      <td>4031.560</td>\n",
       "    </tr>\n",
       "    <tr>\n",
       "      <th>9997</th>\n",
       "      <td>161.99</td>\n",
       "      <td>22.16</td>\n",
       "      <td>1049.510</td>\n",
       "    </tr>\n",
       "    <tr>\n",
       "      <th>9998</th>\n",
       "      <td>87.26</td>\n",
       "      <td>8.74</td>\n",
       "      <td>805.992</td>\n",
       "    </tr>\n",
       "    <tr>\n",
       "      <th>9999</th>\n",
       "      <td>517.99</td>\n",
       "      <td>14.68</td>\n",
       "      <td>2137.700</td>\n",
       "    </tr>\n",
       "  </tbody>\n",
       "</table>\n",
       "<p>10000 rows × 3 columns</p>\n",
       "</div>"
      ],
      "text/plain": [
       "         购买金额  距离最近一次下单天数    累计购买金额\n",
       "0       72.98        4.26  2343.870\n",
       "1      200.99        0.94  8539.872\n",
       "2       69.98        4.29  1687.646\n",
       "3      319.99       15.13  2811.491\n",
       "4      140.00       11.45   769.990\n",
       "...       ...         ...       ...\n",
       "9995  1034.29       14.74  1138.160\n",
       "9996   538.98        8.52  4031.560\n",
       "9997   161.99       22.16  1049.510\n",
       "9998    87.26        8.74   805.992\n",
       "9999   517.99       14.68  2137.700\n",
       "\n",
       "[10000 rows x 3 columns]"
      ]
     },
     "execution_count": 8,
     "metadata": {},
     "output_type": "execute_result"
    }
   ],
   "source": [
    "data_x2_train.drop('30内参加活动',axis=1)"
   ]
  },
  {
   "cell_type": "markdown",
   "id": "da6a330f",
   "metadata": {},
   "source": [
    "## 进行运算"
   ]
  },
  {
   "cell_type": "markdown",
   "id": "a3c7b1bd",
   "metadata": {},
   "source": [
    "- 一元数据的获取，包括loss和predict，并且进行打印检查"
   ]
  },
  {
   "cell_type": "code",
   "execution_count": 9,
   "id": "be99a4dd",
   "metadata": {},
   "outputs": [
    {
     "data": {
      "text/plain": [
       "4247042374.423563"
      ]
     },
     "execution_count": 9,
     "metadata": {},
     "output_type": "execute_result"
    }
   ],
   "source": [
    "theta_1=normal_equation(data_x1_train,data_y_train)\n",
    "loss_1,predict_1=cost_function(theta_1,data_x1_train,data_y_train)\n",
    "loss_1"
   ]
  },
  {
   "cell_type": "code",
   "execution_count": 10,
   "id": "c4092a12",
   "metadata": {},
   "outputs": [
    {
     "data": {
      "text/plain": [
       "matrix([[2.29403041e+02],\n",
       "        [5.69358052e-02]])"
      ]
     },
     "execution_count": 10,
     "metadata": {},
     "output_type": "execute_result"
    }
   ],
   "source": [
    "theta_1"
   ]
  },
  {
   "cell_type": "code",
   "execution_count": 11,
   "id": "5326dddd",
   "metadata": {},
   "outputs": [
    {
     "data": {
      "text/plain": [
       "matrix([[362.85316678, 715.62752954, 325.49052497, ..., 289.15773799,\n",
       "         275.29284459, 351.11471183]])"
      ]
     },
     "execution_count": 11,
     "metadata": {},
     "output_type": "execute_result"
    }
   ],
   "source": [
    "predict_1"
   ]
  },
  {
   "cell_type": "markdown",
   "id": "6bf35525",
   "metadata": {},
   "source": [
    "## 画图(一元）"
   ]
  },
  {
   "cell_type": "code",
   "execution_count": 12,
   "id": "5479eca0",
   "metadata": {},
   "outputs": [
    {
     "data": {
      "image/png": "[encoded data removed]",
      "text/plain": [
       "<Figure size 720x576 with 1 Axes>"
      ]
     },
     "metadata": {
      "needs_background": "light"
     },
     "output_type": "display_data"
    }
   ],
   "source": [
    "plt.figure(figsize=(10,8))\n",
    "plt.scatter(x=data_x1_train['累计购买金额'],y=data_y_train,label=\"train\")\n",
    "\n",
    "plt.xlabel('累计购买金额')\n",
    "plt.ylabel('预测购买金额')\n",
    "plt.title(\"累计购买金额与预测购买金额之间的线性关系\")\n",
    "\n",
    "#画预测线，线性\n",
    "min_x,max_x=np.min(data_x1_train['累计购买金额']),np.max(data_x1_train['累计购买金额'])\n",
    "#data_x=m*(n+1) thata=(1+n)*1\n",
    "\n",
    "y=predict_1\n",
    "min_y,max_y=np.min(y),np.max(y)\n",
    "\n",
    "plt.plot((min_x,max_x),(min_y,max_y),'r',label='predict')\n",
    "\n",
    "plt.legend(loc='best')\n",
    "plt.show()"
   ]
  },
  {
   "cell_type": "markdown",
   "id": "694e244e",
   "metadata": {},
   "source": [
    "## 模型评估（一元）"
   ]
  },
  {
   "cell_type": "markdown",
   "id": "f4208deb",
   "metadata": {},
   "source": [
    "**均方误差**"
   ]
  },
  {
   "cell_type": "code",
   "execution_count": 13,
   "id": "719bfe28",
   "metadata": {},
   "outputs": [
    {
     "data": {
      "text/plain": [
       "3272837877.772621"
      ]
     },
     "execution_count": 13,
     "metadata": {},
     "output_type": "execute_result"
    }
   ],
   "source": [
    "#均方误差，就是loss\n",
    "#theta_1是（n+1）*1,data_x是m*(1+n),data_y是m*1\n",
    "\n",
    "MSE=np.sum(np.power(np.matrix(data_y_test)-np.matrix(data_x1_test).dot(theta_1),2))/len(data_y_test)\n",
    "MSE"
   ]
  },
  {
   "cell_type": "markdown",
   "id": "9639b9d8",
   "metadata": {},
   "source": [
    "本来train的数据，loss只有4247042374,（虽然我也感觉挺大的...用test，更大..）"
   ]
  },
  {
   "cell_type": "markdown",
   "id": "cd2c7dce",
   "metadata": {},
   "source": [
    "**均方根误差**"
   ]
  },
  {
   "cell_type": "code",
   "execution_count": 14,
   "id": "a07ed29c",
   "metadata": {},
   "outputs": [
    {
     "data": {
      "text/plain": [
       "57208.72204281984"
      ]
     },
     "execution_count": 14,
     "metadata": {},
     "output_type": "execute_result"
    }
   ],
   "source": [
    "RMSE=math.sqrt(MSE)\n",
    "RMSE"
   ]
  },
  {
   "cell_type": "markdown",
   "id": "d0110591",
   "metadata": {},
   "source": [
    "**可决系数**"
   ]
  },
  {
   "cell_type": "code",
   "execution_count": 15,
   "id": "a9b5fbfc",
   "metadata": {},
   "outputs": [
    {
     "data": {
      "text/plain": [
       "-8178.2667037511965"
      ]
     },
     "execution_count": 15,
     "metadata": {},
     "output_type": "execute_result"
    }
   ],
   "source": [
    "R1=np.sum(np.power(np.matrix(data_y_test)-np.matrix(data_x1_test).dot(theta_1),2))\n",
    "R2=np.sum(np.power(np.matrix(data_y_test)-np.matrix(data_y_test.mean()),2))\n",
    "R=1-(R1/R2)\n",
    "R"
   ]
  },
  {
   "cell_type": "markdown",
   "id": "4e84f4e3",
   "metadata": {},
   "source": [
    "**浅画一下test的数据点和拟合情况**"
   ]
  },
  {
   "cell_type": "code",
   "execution_count": 16,
   "id": "92e7ff39",
   "metadata": {
    "scrolled": false
   },
   "outputs": [
    {
     "data": {
      "image/png": "[encoded data removed]",
      "text/plain": [
       "<Figure size 720x576 with 1 Axes>"
      ]
     },
     "metadata": {
      "needs_background": "light"
     },
     "output_type": "display_data"
    }
   ],
   "source": [
    "plt.figure(figsize=(10,8))\n",
    "plt.scatter(data_x1_test['累计购买金额'],y=data_y_test,label=\"train\")\n",
    "\n",
    "plt.xlabel('累计购买金额')\n",
    "plt.ylabel('预测购买金额')\n",
    "plt.title(\"累计购买金额与预测购买金额之间的线性关系\")\n",
    "\n",
    "#画预测线，线性\n",
    "min_x,max_x=np.min(data_x1_test['累计购买金额']),np.max(data_x1_test['累计购买金额'])\n",
    "#data_x=m*(n+1) thata=(1+n)*1\n",
    "\n",
    "y=np.matrix(data_x1_test).dot(theta_1)\n",
    "min_y,max_y=np.min(y),np.max(y)\n",
    "\n",
    "plt.plot((min_x,max_x),(min_y,max_y),'r',label='predict')\n",
    "\n",
    "plt.legend(loc='best')\n",
    "plt.show()"
   ]
  },
  {
   "cell_type": "markdown",
   "id": "2541212e",
   "metadata": {},
   "source": [
    "**说明一元拟合容易误差较大，其实也容易理解，在数据清洗的时候虽然相关系数都不是很大，但是也有几个特征是正数且也十分接近这个“累计购买金额”的相关系数**"
   ]
  },
  {
   "cell_type": "markdown",
   "id": "905a0801",
   "metadata": {},
   "source": [
    "# 尝试特征缩放"
   ]
  },
  {
   "cell_type": "markdown",
   "id": "3c765255",
   "metadata": {},
   "source": [
    "- 归一化数据之后再带入方程"
   ]
  },
  {
   "cell_type": "code",
   "execution_count": 17,
   "id": "69cfa929",
   "metadata": {},
   "outputs": [],
   "source": [
    "data_x1_min=data_x1_train.min()\n",
    "data_x1_max=data_x1_train.max()\n",
    "data_x1_train=(data_x1_train-data_x1_min)/(data_x1_max-data_x1_min)\n",
    "\n",
    "data_y_min=data_y_train.min()\n",
    "data_y_max=data_y_train.max()\n",
    "data_y_train=(data_y_train-data_y_min)/(data_y_max-data_y_min)\n",
    "\n",
    "data_x1_train=data_x1_train.drop('x0',axis=1)\n",
    "data_x1_train.insert(0,'x0',1)"
   ]
  },
  {
   "cell_type": "code",
   "execution_count": 18,
   "id": "c89b5ad3",
   "metadata": {},
   "outputs": [
    {
     "data": {
      "text/html": [
       "<div>\n",
       "<style scoped>\n",
       "    .dataframe tbody tr th:only-of-type {\n",
       "        vertical-align: middle;\n",
       "    }\n",
       "\n",
       "    .dataframe tbody tr th {\n",
       "        vertical-align: top;\n",
       "    }\n",
       "\n",
       "    .dataframe thead th {\n",
       "        text-align: right;\n",
       "    }\n",
       "</style>\n",
       "<table border=\"1\" class=\"dataframe\">\n",
       "  <thead>\n",
       "    <tr style=\"text-align: right;\">\n",
       "      <th></th>\n",
       "      <th>x0</th>\n",
       "      <th>累计购买金额</th>\n",
       "    </tr>\n",
       "  </thead>\n",
       "  <tbody>\n",
       "    <tr>\n",
       "      <th>0</th>\n",
       "      <td>1</td>\n",
       "      <td>0.202094</td>\n",
       "    </tr>\n",
       "    <tr>\n",
       "      <th>1</th>\n",
       "      <td>1</td>\n",
       "      <td>0.736329</td>\n",
       "    </tr>\n",
       "    <tr>\n",
       "      <th>2</th>\n",
       "      <td>1</td>\n",
       "      <td>0.145513</td>\n",
       "    </tr>\n",
       "    <tr>\n",
       "      <th>3</th>\n",
       "      <td>1</td>\n",
       "      <td>0.242414</td>\n",
       "    </tr>\n",
       "    <tr>\n",
       "      <th>4</th>\n",
       "      <td>1</td>\n",
       "      <td>0.066390</td>\n",
       "    </tr>\n",
       "    <tr>\n",
       "      <th>...</th>\n",
       "      <td>...</td>\n",
       "      <td>...</td>\n",
       "    </tr>\n",
       "    <tr>\n",
       "      <th>9995</th>\n",
       "      <td>1</td>\n",
       "      <td>0.098135</td>\n",
       "    </tr>\n",
       "    <tr>\n",
       "      <th>9996</th>\n",
       "      <td>1</td>\n",
       "      <td>0.347611</td>\n",
       "    </tr>\n",
       "    <tr>\n",
       "      <th>9997</th>\n",
       "      <td>1</td>\n",
       "      <td>0.090491</td>\n",
       "    </tr>\n",
       "    <tr>\n",
       "      <th>9998</th>\n",
       "      <td>1</td>\n",
       "      <td>0.069495</td>\n",
       "    </tr>\n",
       "    <tr>\n",
       "      <th>9999</th>\n",
       "      <td>1</td>\n",
       "      <td>0.184318</td>\n",
       "    </tr>\n",
       "  </tbody>\n",
       "</table>\n",
       "<p>10000 rows × 2 columns</p>\n",
       "</div>"
      ],
      "text/plain": [
       "      x0    累计购买金额\n",
       "0      1  0.202094\n",
       "1      1  0.736329\n",
       "2      1  0.145513\n",
       "3      1  0.242414\n",
       "4      1  0.066390\n",
       "...   ..       ...\n",
       "9995   1  0.098135\n",
       "9996   1  0.347611\n",
       "9997   1  0.090491\n",
       "9998   1  0.069495\n",
       "9999   1  0.184318\n",
       "\n",
       "[10000 rows x 2 columns]"
      ]
     },
     "execution_count": 18,
     "metadata": {},
     "output_type": "execute_result"
    }
   ],
   "source": [
    "data_x1_train"
   ]
  },
  {
   "cell_type": "markdown",
   "id": "c30231fd",
   "metadata": {},
   "source": [
    "## 再进行以上有过的操作"
   ]
  },
  {
   "cell_type": "markdown",
   "id": "351f780b",
   "metadata": {},
   "source": [
    "- 进行一元loss，theta的获取"
   ]
  },
  {
   "cell_type": "code",
   "execution_count": 19,
   "id": "bd188611",
   "metadata": {},
   "outputs": [
    {
     "data": {
      "text/plain": [
       "5.021974374283507"
      ]
     },
     "execution_count": 19,
     "metadata": {},
     "output_type": "execute_result"
    }
   ],
   "source": [
    "theta_1=normal_equation(data_x1_train,data_y_train)\n",
    "loss_1,predict_1=cost_function(theta_1,data_x1_train,data_y_train)\n",
    "loss_1"
   ]
  },
  {
   "cell_type": "code",
   "execution_count": 20,
   "id": "92b3a69f",
   "metadata": {},
   "outputs": [
    {
     "data": {
      "text/plain": [
       "matrix([[0.00788779],\n",
       "        [0.02270695]])"
      ]
     },
     "execution_count": 20,
     "metadata": {},
     "output_type": "execute_result"
    }
   ],
   "source": [
    "theta_1"
   ]
  },
  {
   "cell_type": "code",
   "execution_count": 21,
   "id": "839b4e12",
   "metadata": {},
   "outputs": [
    {
     "data": {
      "text/plain": [
       "matrix([[0.01247673, 0.02460758, 0.01119195, ..., 0.00994257, 0.0094658 ,\n",
       "         0.01207308]])"
      ]
     },
     "execution_count": 21,
     "metadata": {},
     "output_type": "execute_result"
    }
   ],
   "source": [
    "predict_1"
   ]
  },
  {
   "cell_type": "markdown",
   "id": "00c11c06",
   "metadata": {},
   "source": [
    "- 画图"
   ]
  },
  {
   "cell_type": "code",
   "execution_count": 22,
   "id": "66fcb542",
   "metadata": {},
   "outputs": [
    {
     "data": {
      "image/png": "[encoded data removed]",
      "text/plain": [
       "<Figure size 720x576 with 1 Axes>"
      ]
     },
     "metadata": {
      "needs_background": "light"
     },
     "output_type": "display_data"
    }
   ],
   "source": [
    "plt.figure(figsize=(10,8))\n",
    "plt.scatter(x=data_x1_train['累计购买金额'],y=data_y_train,label=\"train\")\n",
    "\n",
    "plt.xlabel('累计购买金额')\n",
    "plt.ylabel('预测购买金额')\n",
    "plt.title(\"累计购买金额与预测购买金额之间的线性关系\")\n",
    "\n",
    "#画预测线，线性\n",
    "min_x,max_x=np.min(data_x1_train['累计购买金额']),np.max(data_x1_train['累计购买金额'])\n",
    "#data_x=m*(n+1) thata=(1+n)*1\n",
    "\n",
    "y=predict_1\n",
    "min_y,max_y=np.min(y),np.max(y)\n",
    "\n",
    "plt.plot((min_x,max_x),(min_y,max_y),'r',label='predict')\n",
    "\n",
    "plt.legend(loc='best')\n",
    "plt.show()"
   ]
  },
  {
   "cell_type": "markdown",
   "id": "1bae825a",
   "metadata": {},
   "source": [
    "## 模型评估"
   ]
  },
  {
   "cell_type": "markdown",
   "id": "24dfca48",
   "metadata": {},
   "source": [
    "- 均方误差"
   ]
  },
  {
   "cell_type": "code",
   "execution_count": 23,
   "id": "3be7243d",
   "metadata": {},
   "outputs": [
    {
     "data": {
      "text/plain": [
       "5.458173688792235"
      ]
     },
     "execution_count": 23,
     "metadata": {},
     "output_type": "execute_result"
    }
   ],
   "source": [
    "#均方误差，就是loss\n",
    "#theta_1是（n+1）*1,data_x是m*(1+n),data_y是m*1\n",
    "\n",
    "MSE=np.sum(np.power(np.matrix(data_y_train)-np.matrix(data_x1_train).dot(theta_1),2))/len(data_y_train)\n",
    "MSE"
   ]
  },
  {
   "cell_type": "markdown",
   "id": "9e248bfe",
   "metadata": {},
   "source": [
    "- 可决系数"
   ]
  },
  {
   "cell_type": "code",
   "execution_count": 24,
   "id": "4d72de65",
   "metadata": {},
   "outputs": [
    {
     "data": {
      "text/plain": [
       "-10026.888937391217"
      ]
     },
     "execution_count": 24,
     "metadata": {},
     "output_type": "execute_result"
    }
   ],
   "source": [
    "R1=np.sum(np.power(np.matrix(data_y_test)-np.matrix(data_x1_test).dot(theta_1),2))\n",
    "R2=np.sum(np.power(np.matrix(data_y_test)-np.matrix(data_y_test.mean()),2))\n",
    "R=1-(R1/R2)\n",
    "R"
   ]
  },
  {
   "cell_type": "code",
   "execution_count": 25,
   "id": "01dbff42",
   "metadata": {},
   "outputs": [
    {
     "data": {
      "text/plain": [
       "-10415.214839602828"
      ]
     },
     "execution_count": 25,
     "metadata": {},
     "output_type": "execute_result"
    }
   ],
   "source": [
    "R1=np.sum(np.power(np.matrix(data_y_train)-np.matrix(data_x1_train).dot(theta_1),2))\n",
    "R2=np.sum(np.power(np.matrix(data_y_train)-np.matrix(data_y_train.mean()),2))\n",
    "R=1-(R1/R2)\n",
    "R"
   ]
  },
  {
   "cell_type": "markdown",
   "id": "106e910f",
   "metadata": {},
   "source": [
    "**总结：**"
   ]
  },
  {
   "cell_type": "markdown",
   "id": "0c0250f5",
   "metadata": {},
   "source": [
    "降维能一定程度上让数据拟合得更好，能降低误差、"
   ]
  },
  {
   "cell_type": "markdown",
   "id": "c6c1e509",
   "metadata": {},
   "source": [
    "## 多元的线性模型"
   ]
  },
  {
   "cell_type": "code",
   "execution_count": 26,
   "id": "bdc5fe36",
   "metadata": {},
   "outputs": [],
   "source": [
    "data_x2_train=data_x2_train.drop(['30内参加活动'],axis=1)"
   ]
  },
  {
   "cell_type": "code",
   "execution_count": 27,
   "id": "678049da",
   "metadata": {},
   "outputs": [
    {
     "data": {
      "text/html": [
       "<div>\n",
       "<style scoped>\n",
       "    .dataframe tbody tr th:only-of-type {\n",
       "        vertical-align: middle;\n",
       "    }\n",
       "\n",
       "    .dataframe tbody tr th {\n",
       "        vertical-align: top;\n",
       "    }\n",
       "\n",
       "    .dataframe thead th {\n",
       "        text-align: right;\n",
       "    }\n",
       "</style>\n",
       "<table border=\"1\" class=\"dataframe\">\n",
       "  <thead>\n",
       "    <tr style=\"text-align: right;\">\n",
       "      <th></th>\n",
       "      <th>购买金额</th>\n",
       "      <th>距离最近一次下单天数</th>\n",
       "      <th>累计购买金额</th>\n",
       "    </tr>\n",
       "  </thead>\n",
       "  <tbody>\n",
       "    <tr>\n",
       "      <th>0</th>\n",
       "      <td>72.98</td>\n",
       "      <td>4.26</td>\n",
       "      <td>2343.870</td>\n",
       "    </tr>\n",
       "    <tr>\n",
       "      <th>1</th>\n",
       "      <td>200.99</td>\n",
       "      <td>0.94</td>\n",
       "      <td>8539.872</td>\n",
       "    </tr>\n",
       "    <tr>\n",
       "      <th>2</th>\n",
       "      <td>69.98</td>\n",
       "      <td>4.29</td>\n",
       "      <td>1687.646</td>\n",
       "    </tr>\n",
       "    <tr>\n",
       "      <th>3</th>\n",
       "      <td>319.99</td>\n",
       "      <td>15.13</td>\n",
       "      <td>2811.491</td>\n",
       "    </tr>\n",
       "    <tr>\n",
       "      <th>4</th>\n",
       "      <td>140.00</td>\n",
       "      <td>11.45</td>\n",
       "      <td>769.990</td>\n",
       "    </tr>\n",
       "    <tr>\n",
       "      <th>...</th>\n",
       "      <td>...</td>\n",
       "      <td>...</td>\n",
       "      <td>...</td>\n",
       "    </tr>\n",
       "    <tr>\n",
       "      <th>9995</th>\n",
       "      <td>1034.29</td>\n",
       "      <td>14.74</td>\n",
       "      <td>1138.160</td>\n",
       "    </tr>\n",
       "    <tr>\n",
       "      <th>9996</th>\n",
       "      <td>538.98</td>\n",
       "      <td>8.52</td>\n",
       "      <td>4031.560</td>\n",
       "    </tr>\n",
       "    <tr>\n",
       "      <th>9997</th>\n",
       "      <td>161.99</td>\n",
       "      <td>22.16</td>\n",
       "      <td>1049.510</td>\n",
       "    </tr>\n",
       "    <tr>\n",
       "      <th>9998</th>\n",
       "      <td>87.26</td>\n",
       "      <td>8.74</td>\n",
       "      <td>805.992</td>\n",
       "    </tr>\n",
       "    <tr>\n",
       "      <th>9999</th>\n",
       "      <td>517.99</td>\n",
       "      <td>14.68</td>\n",
       "      <td>2137.700</td>\n",
       "    </tr>\n",
       "  </tbody>\n",
       "</table>\n",
       "<p>10000 rows × 3 columns</p>\n",
       "</div>"
      ],
      "text/plain": [
       "         购买金额  距离最近一次下单天数    累计购买金额\n",
       "0       72.98        4.26  2343.870\n",
       "1      200.99        0.94  8539.872\n",
       "2       69.98        4.29  1687.646\n",
       "3      319.99       15.13  2811.491\n",
       "4      140.00       11.45   769.990\n",
       "...       ...         ...       ...\n",
       "9995  1034.29       14.74  1138.160\n",
       "9996   538.98        8.52  4031.560\n",
       "9997   161.99       22.16  1049.510\n",
       "9998    87.26        8.74   805.992\n",
       "9999   517.99       14.68  2137.700\n",
       "\n",
       "[10000 rows x 3 columns]"
      ]
     },
     "execution_count": 27,
     "metadata": {},
     "output_type": "execute_result"
    }
   ],
   "source": [
    "data_x2_train"
   ]
  },
  {
   "cell_type": "markdown",
   "id": "aa072622",
   "metadata": {},
   "source": [
    "## 先对数据进行标准化"
   ]
  },
  {
   "cell_type": "code",
   "execution_count": 28,
   "id": "57a90e46",
   "metadata": {},
   "outputs": [],
   "source": [
    "data_x2_train=(data_x2_train-data_x2_train.mean())/data_x2_train.std()\n",
    "data_y_train=(data_y_train-data_y_train.mean())/data_y_train.std()"
   ]
  },
  {
   "cell_type": "code",
   "execution_count": 29,
   "id": "e9279bc5",
   "metadata": {},
   "outputs": [],
   "source": [
    "data_y_train\n",
    "data_x2_train\n",
    "\n",
    "data_x2_train.insert(0,'x0',1)"
   ]
  },
  {
   "cell_type": "markdown",
   "id": "f78687a7",
   "metadata": {},
   "source": [
    "## 正规方程"
   ]
  },
  {
   "cell_type": "markdown",
   "id": "1e43783f",
   "metadata": {},
   "source": [
    "- 多元数据的获取，包括loss以及predict，并且进行打印检查"
   ]
  },
  {
   "cell_type": "code",
   "execution_count": 30,
   "id": "d2ed459b",
   "metadata": {},
   "outputs": [
    {
     "data": {
      "text/plain": [
       "1.5946637556570087e-27"
      ]
     },
     "execution_count": 30,
     "metadata": {},
     "output_type": "execute_result"
    }
   ],
   "source": [
    "theta_2=normal_equation(data_x2_train,data_y_train)\n",
    "loss_2,predict_2=cost_function(theta_2,data_x2_train,data_y_train)\n",
    "loss_2"
   ]
  },
  {
   "cell_type": "code",
   "execution_count": 31,
   "id": "2b30be04",
   "metadata": {},
   "outputs": [
    {
     "data": {
      "text/plain": [
       "matrix([[ 3.74294262e-14],\n",
       "        [ 1.00000000e+00],\n",
       "        [-1.38777878e-17],\n",
       "        [-2.77555756e-17]])"
      ]
     },
     "execution_count": 31,
     "metadata": {},
     "output_type": "execute_result"
    }
   ],
   "source": [
    "theta_2\n",
    "#（n+1）*1"
   ]
  },
  {
   "cell_type": "code",
   "execution_count": 32,
   "id": "ff1d7ee7",
   "metadata": {},
   "outputs": [
    {
     "data": {
      "text/plain": [
       "(1, 10000)"
      ]
     },
     "execution_count": 32,
     "metadata": {},
     "output_type": "execute_result"
    }
   ],
   "source": [
    "predict_2.shape\n",
    "#1*m"
   ]
  },
  {
   "cell_type": "code",
   "execution_count": 33,
   "id": "6ce56e0a",
   "metadata": {},
   "outputs": [
    {
     "data": {
      "text/plain": [
       "0      -0.451684\n",
       "1      -0.259398\n",
       "2      -0.456191\n",
       "3      -0.080647\n",
       "4      -0.351012\n",
       "          ...   \n",
       "9995    0.992315\n",
       "9996    0.248302\n",
       "9997   -0.317981\n",
       "9998   -0.430234\n",
       "9999    0.216772\n",
       "Name: 购买金额, Length: 10000, dtype: float64"
      ]
     },
     "execution_count": 33,
     "metadata": {},
     "output_type": "execute_result"
    }
   ],
   "source": [
    "data_y_train"
   ]
  },
  {
   "cell_type": "markdown",
   "id": "10b61023",
   "metadata": {},
   "source": [
    "**用test的数据来测试**\n",
    "\n",
    "**前面已经使用了MSE，这次来试试残差图评估**"
   ]
  },
  {
   "cell_type": "code",
   "execution_count": 34,
   "id": "5d35bc04",
   "metadata": {},
   "outputs": [
    {
     "name": "stdout",
     "output_type": "stream",
     "text": [
      "(1, 10000)\n",
      "(1, 10000)\n",
      "(1, 10000)\n"
     ]
    }
   ],
   "source": [
    "y1=np.matrix(data_y_train)\n",
    "y2=predict_2\n",
    "y=(y1)-(y2)\n",
    "print(y1.shape)\n",
    "print(y2.shape)\n",
    "print(y.shape)\n",
    "y=y.tolist()"
   ]
  },
  {
   "cell_type": "code",
   "execution_count": 35,
   "id": "d4a8978e",
   "metadata": {},
   "outputs": [
    {
     "data": {
      "text/html": [
       "<div>\n",
       "<style scoped>\n",
       "    .dataframe tbody tr th:only-of-type {\n",
       "        vertical-align: middle;\n",
       "    }\n",
       "\n",
       "    .dataframe tbody tr th {\n",
       "        vertical-align: top;\n",
       "    }\n",
       "\n",
       "    .dataframe thead th {\n",
       "        text-align: right;\n",
       "    }\n",
       "</style>\n",
       "<table border=\"1\" class=\"dataframe\">\n",
       "  <thead>\n",
       "    <tr style=\"text-align: right;\">\n",
       "      <th></th>\n",
       "      <th>购买金额</th>\n",
       "      <th>距离最近一次下单天数</th>\n",
       "      <th>累计购买金额</th>\n",
       "    </tr>\n",
       "  </thead>\n",
       "  <tbody>\n",
       "    <tr>\n",
       "      <th>0</th>\n",
       "      <td>-0.451684</td>\n",
       "      <td>-0.488237</td>\n",
       "      <td>-0.079706</td>\n",
       "    </tr>\n",
       "    <tr>\n",
       "      <th>1</th>\n",
       "      <td>-0.259398</td>\n",
       "      <td>-1.025801</td>\n",
       "      <td>2.517711</td>\n",
       "    </tr>\n",
       "    <tr>\n",
       "      <th>2</th>\n",
       "      <td>-0.456191</td>\n",
       "      <td>-0.483380</td>\n",
       "      <td>-0.354801</td>\n",
       "    </tr>\n",
       "    <tr>\n",
       "      <th>3</th>\n",
       "      <td>-0.080647</td>\n",
       "      <td>1.271797</td>\n",
       "      <td>0.116325</td>\n",
       "    </tr>\n",
       "    <tr>\n",
       "      <th>4</th>\n",
       "      <td>-0.351012</td>\n",
       "      <td>0.675944</td>\n",
       "      <td>-0.739490</td>\n",
       "    </tr>\n",
       "    <tr>\n",
       "      <th>...</th>\n",
       "      <td>...</td>\n",
       "      <td>...</td>\n",
       "      <td>...</td>\n",
       "    </tr>\n",
       "    <tr>\n",
       "      <th>9995</th>\n",
       "      <td>0.992315</td>\n",
       "      <td>1.208650</td>\n",
       "      <td>-0.585150</td>\n",
       "    </tr>\n",
       "    <tr>\n",
       "      <th>9996</th>\n",
       "      <td>0.248302</td>\n",
       "      <td>0.201528</td>\n",
       "      <td>0.627788</td>\n",
       "    </tr>\n",
       "    <tr>\n",
       "      <th>9997</th>\n",
       "      <td>-0.317981</td>\n",
       "      <td>2.410072</td>\n",
       "      <td>-0.622313</td>\n",
       "    </tr>\n",
       "    <tr>\n",
       "      <th>9998</th>\n",
       "      <td>-0.430234</td>\n",
       "      <td>0.237150</td>\n",
       "      <td>-0.724398</td>\n",
       "    </tr>\n",
       "    <tr>\n",
       "      <th>9999</th>\n",
       "      <td>0.216772</td>\n",
       "      <td>1.198935</td>\n",
       "      <td>-0.166134</td>\n",
       "    </tr>\n",
       "  </tbody>\n",
       "</table>\n",
       "<p>10000 rows × 3 columns</p>\n",
       "</div>"
      ],
      "text/plain": [
       "          购买金额  距离最近一次下单天数    累计购买金额\n",
       "0    -0.451684   -0.488237 -0.079706\n",
       "1    -0.259398   -1.025801  2.517711\n",
       "2    -0.456191   -0.483380 -0.354801\n",
       "3    -0.080647    1.271797  0.116325\n",
       "4    -0.351012    0.675944 -0.739490\n",
       "...        ...         ...       ...\n",
       "9995  0.992315    1.208650 -0.585150\n",
       "9996  0.248302    0.201528  0.627788\n",
       "9997 -0.317981    2.410072 -0.622313\n",
       "9998 -0.430234    0.237150 -0.724398\n",
       "9999  0.216772    1.198935 -0.166134\n",
       "\n",
       "[10000 rows x 3 columns]"
      ]
     },
     "execution_count": 35,
     "metadata": {},
     "output_type": "execute_result"
    }
   ],
   "source": [
    "data_x2=data_x2_train.drop('x0',axis=1)\n",
    "data_x2"
   ]
  },
  {
   "cell_type": "code",
   "execution_count": 36,
   "id": "6513fbdc",
   "metadata": {},
   "outputs": [
    {
     "data": {
      "image/png": "[encoded data removed]",
      "text/plain": [
       "<Figure size 432x288 with 1 Axes>"
      ]
     },
     "metadata": {
      "needs_background": "light"
     },
     "output_type": "display_data"
    },
    {
     "data": {
      "image/png": "[encoded data removed]",
      "text/plain": [
       "<Figure size 432x288 with 1 Axes>"
      ]
     },
     "metadata": {
      "needs_background": "light"
     },
     "output_type": "display_data"
    },
    {
     "data": {
      "image/png": "[encoded data removed]",
      "text/plain": [
       "<Figure size 432x288 with 1 Axes>"
      ]
     },
     "metadata": {
      "needs_background": "light"
     },
     "output_type": "display_data"
    }
   ],
   "source": [
    "for i in data_x2.columns.tolist():\n",
    "    sns.residplot(x=i,y=y,lowess=True,color=\"g\",data=data_x2)\n",
    "    plt.show() "
   ]
  },
  {
   "cell_type": "markdown",
   "id": "3ebdc224",
   "metadata": {},
   "source": [
    "**前期对购买金额计算相关系数的时候，也是偏小，但是相较其他数据算作还行，现在拟合出来的结果显示这个相关不大，因此需要把他删除**"
   ]
  },
  {
   "cell_type": "code",
   "execution_count": 37,
   "id": "c6b9e8e9",
   "metadata": {},
   "outputs": [],
   "source": [
    "data_x2_train=data_x2_train.drop('购买金额',axis=1)\n",
    "data_x2_train=data_x2_train.drop('x0',axis=1)\n",
    "data_x2_train.insert(1,'x0',1)"
   ]
  },
  {
   "cell_type": "markdown",
   "id": "48830c1b",
   "metadata": {},
   "source": [
    "# 梯度下降（多元）"
   ]
  },
  {
   "cell_type": "markdown",
   "id": "6f9af667",
   "metadata": {},
   "source": [
    " - **画图**，跟踪theta变化并且画出theta，以及在数据集点上画出拟合的线(一元）"
   ]
  },
  {
   "cell_type": "code",
   "execution_count": 38,
   "id": "2355c4c9",
   "metadata": {},
   "outputs": [],
   "source": [
    "def decline_gradient(data_x,data_y,alpha,interations):\n",
    "    #初始化theta\n",
    "    n=data_x.shape[1]\n",
    "    theta=np.zeros((1,n))\n",
    "    temp=np.matrix(np.zeros(theta.shape))\n",
    "    \n",
    "    #初始化loss\n",
    "    loss=np.zeros(interations)\n",
    "    \n",
    "    #让x，y变成矩阵\n",
    "    data_x=np.matrix(data_x)\n",
    "    data_y=np.matrix(data_y)\n",
    "    \n",
    "    for i in range(0, interations):\n",
    "        # 每次迭代根据上一次算出的新的theta更新一遍误差\n",
    "        # x=m*(1+n),theta=(n+1)*1,data_y=m*1\n",
    "        #deviation是损失的意思\n",
    "        deviation= (data_x.dot(theta.T))-data_y\n",
    "        gradient= np.sum(data_x.T.dot(deviation))#(n+1)*1\n",
    "        theta=theta- ((alpha / len(data_y)) * gradient)\n",
    "            \n",
    "        \n",
    "        inner=data_x.dot(theta.T)-data_y\n",
    "        loss[i]=np.sum(inner)/len(data_x)\n",
    "    return theta,loss"
   ]
  },
  {
   "cell_type": "code",
   "execution_count": 39,
   "id": "c585b208",
   "metadata": {},
   "outputs": [],
   "source": [
    "theta_3,loss=decline_gradient(data_x2_train,data_y_train,0.0000000000001,100)"
   ]
  },
  {
   "cell_type": "code",
   "execution_count": 40,
   "id": "ffe207e4",
   "metadata": {},
   "outputs": [
    {
     "data": {
      "text/plain": [
       "array([[-4.02538171e-18, -4.02538171e-18, -4.02538171e-18]])"
      ]
     },
     "execution_count": 40,
     "metadata": {},
     "output_type": "execute_result"
    }
   ],
   "source": [
    "theta_3"
   ]
  },
  {
   "cell_type": "code",
   "execution_count": 41,
   "id": "a99d840d",
   "metadata": {},
   "outputs": [
    {
     "data": {
      "image/png": "[encoded data removed]",
      "text/plain": [
       "<Figure size 432x288 with 1 Axes>"
      ]
     },
     "metadata": {
      "needs_background": "light"
     },
     "output_type": "display_data"
    },
    {
     "data": {
      "image/png": "[encoded data removed]",
      "text/plain": [
       "<Figure size 432x288 with 1 Axes>"
      ]
     },
     "metadata": {
      "needs_background": "light"
     },
     "output_type": "display_data"
    }
   ],
   "source": [
    "predict_3=theta_3.dot(data_x2_train.T)\n",
    "y1=np.matrix(data_y_train)\n",
    "pradict_3=np.matrix(predict_3)\n",
    "\n",
    "y=(y1)-(predict_3)# 1*m-1*m\n",
    "\n",
    "y=y.tolist()\n",
    "data_2=data_x2_train.drop('x0',axis=1)\n",
    "for i in data_2.columns.tolist():\n",
    "    sns.residplot(x=i,y=y,lowess=True,color=\"g\",data=data_x2_train)\n",
    "    plt.show() "
   ]
  },
  {
   "cell_type": "markdown",
   "id": "af23f848",
   "metadata": {},
   "source": [
    "**效果不错~**"
   ]
  },
  {
   "cell_type": "markdown",
   "id": "e37d3b0d",
   "metadata": {},
   "source": [
    "## 画loss函数查看是否收敛"
   ]
  },
  {
   "cell_type": "code",
   "execution_count": 42,
   "id": "961bf81b",
   "metadata": {},
   "outputs": [
    {
     "data": {
      "image/png": "[encoded data removed]",
      "text/plain": [
       "<Figure size 864x576 with 1 Axes>"
      ]
     },
     "metadata": {
      "needs_background": "light"
     },
     "output_type": "display_data"
    }
   ],
   "source": [
    "loss_max,loss_min=loss.max(),loss.min()\n",
    "fig,ax=plt.subplots(figsize=(12,8))\n",
    "ax.plot(np.arange(100),loss,'r')\n",
    "ax.set_xlabel('迭代次数')\n",
    "ax.set_ylabel('代价',rotation=0)\n",
    "ax.set_title('loss跟踪变化示意')\n",
    "plt.show()"
   ]
  },
  {
   "cell_type": "markdown",
   "id": "243e597f",
   "metadata": {},
   "source": [
    "梯度下降，theta接近预期，迭代次数变多，theta即可获得与正规方程相近的结果"
   ]
  },
  {
   "cell_type": "code",
   "execution_count": null,
   "id": "8c23fecf",
   "metadata": {},
   "outputs": [],
   "source": []
  }
 ],
 "metadata": {
  "kernelspec": {
   "display_name": "Python 3 (ipykernel)",
   "language": "python",
   "name": "python3"
  },
  "language_info": {
   "codemirror_mode": {
    "name": "ipython",
    "version": 3
   },
   "file_extension": ".py",
   "mimetype": "text/x-python",
   "name": "python",
   "nbconvert_exporter": "python",
   "pygments_lexer": "ipython3",
   "version": "3.9.7"
  }
 },
 "nbformat": 4,
 "nbformat_minor": 5
}
