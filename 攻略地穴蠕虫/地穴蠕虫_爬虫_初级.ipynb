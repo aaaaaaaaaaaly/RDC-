{
 "cells": [
  {
   "cell_type": "markdown",
   "id": "4b1e752e",
   "metadata": {},
   "source": [
    "### 任务要求"
   ]
  },
  {
   "cell_type": "markdown",
   "id": "2b2bfdff",
   "metadata": {},
   "source": [
    "- 爬取京东任意3个笔记本的信息\n",
    "- 进阶：爬取\"作文吧\"任意10篇作文（标题+正文）"
   ]
  },
  {
   "cell_type": "markdown",
   "id": "d6a2882f",
   "metadata": {},
   "source": [
    "应用：\n",
    "- urllib库（或者request库）\n",
    "- 正则表达式"
   ]
  },
  {
   "cell_type": "markdown",
   "id": "288fc627",
   "metadata": {},
   "source": [
    "## 准备工作"
   ]
  },
  {
   "cell_type": "code",
   "execution_count": 2,
   "id": "72e05875",
   "metadata": {},
   "outputs": [],
   "source": [
    "import re\n",
    "import requests\n",
    "from bs4 import BeautifulSoup\n",
    "import urllib\n",
    "import xlwt\n",
    "import pandas as pd"
   ]
  },
  {
   "cell_type": "markdown",
   "id": "24a8da8c",
   "metadata": {},
   "source": [
    "## 获取数据"
   ]
  },
  {
   "cell_type": "markdown",
   "id": "5eb2a7a8",
   "metadata": {},
   "source": [
    "- 定义爬取网页数据函数"
   ]
  },
  {
   "cell_type": "code",
   "execution_count": 2,
   "id": "f4df2528",
   "metadata": {},
   "outputs": [],
   "source": [
    "def askurl (url,head):\n",
    "    #指定头部信息，模仿用户\n",
    "    #修改发送的头部信息进行请求，伪装\n",
    "    response=requests.get(url,headers=head)\n",
    "    html=response.text\n",
    "    return html"
   ]
  },
  {
   "cell_type": "markdown",
   "id": "2f2c829c",
   "metadata": {},
   "source": [
    "## 解析内容"
   ]
  },
  {
   "cell_type": "code",
   "execution_count": 3,
   "id": "39300474",
   "metadata": {},
   "outputs": [],
   "source": [
    "#核心：正则表达式\n",
    "def getdata(url,header,data):\n",
    "    #爬取网页\n",
    "    html=askurl(url,header)\n",
    "    #解析网页代码\n",
    "    soup=BeautifulSoup(html,\"html.parser\")\n",
    "    item=soup.find_all('div',class_=\"p-parameter\")#到爬取网页检查代码后发现所属的class是p-parameter\n",
    "    item=str(item)\n",
    "    findLink=re.compile(r'<li title=\".*?\">(.*)</li>')#正则表达式\n",
    "    elements=re.findall(findLink,item)#前面是规则，后面是解析对象\n",
    "    data.append(elements)"
   ]
  },
  {
   "cell_type": "markdown",
   "id": "046bb1d6",
   "metadata": {},
   "source": [
    "## 主程序"
   ]
  },
  {
   "cell_type": "code",
   "execution_count": 4,
   "id": "38b9140a",
   "metadata": {},
   "outputs": [],
   "source": [
    "#要解析的3个笔记本的网址\n",
    "url_1=\"https://item.jd.com/100032149194.html\"\n",
    "url_2=\"https://item.jd.com/100032226552.html\"\n",
    "url_3=\"https://item.jd.com/100016960357.html\"\n",
    "header={\n",
    "    \"user-agent\": \"Mozilla/5.0 (Windows NT 10.0; Win64; x64) AppleWebKit/537.36 (KHTML, like Gecko) Chrome/99.0.4844.74 Safari/537.36 Edg/99.0.1150.52\"}"
   ]
  },
  {
   "cell_type": "code",
   "execution_count": 5,
   "id": "23becf07",
   "metadata": {},
   "outputs": [],
   "source": [
    "data=[]\n",
    "getdata(url_1,header,data)\n",
    "getdata(url_2,header,data)\n",
    "getdata(url_3,header,data)\n",
    "data=pd.DataFrame(data)"
   ]
  },
  {
   "cell_type": "markdown",
   "id": "58b40789",
   "metadata": {},
   "source": [
    "## 保存到文件中"
   ]
  },
  {
   "cell_type": "code",
   "execution_count": 6,
   "id": "42ae9640",
   "metadata": {},
   "outputs": [],
   "source": [
    "data.to_excel(\"JD_computer.xlsx\")"
   ]
  },
  {
   "cell_type": "code",
   "execution_count": 7,
   "id": "82c3a7de",
   "metadata": {},
   "outputs": [
    {
     "data": {
      "text/html": [
       "<div>\n",
       "<style scoped>\n",
       "    .dataframe tbody tr th:only-of-type {\n",
       "        vertical-align: middle;\n",
       "    }\n",
       "\n",
       "    .dataframe tbody tr th {\n",
       "        vertical-align: top;\n",
       "    }\n",
       "\n",
       "    .dataframe thead th {\n",
       "        text-align: right;\n",
       "    }\n",
       "</style>\n",
       "<table border=\"1\" class=\"dataframe\">\n",
       "  <thead>\n",
       "    <tr style=\"text-align: right;\">\n",
       "      <th></th>\n",
       "      <th>0</th>\n",
       "      <th>1</th>\n",
       "      <th>2</th>\n",
       "      <th>3</th>\n",
       "      <th>4</th>\n",
       "      <th>5</th>\n",
       "      <th>6</th>\n",
       "      <th>7</th>\n",
       "      <th>8</th>\n",
       "      <th>9</th>\n",
       "      <th>...</th>\n",
       "      <th>12</th>\n",
       "      <th>13</th>\n",
       "      <th>14</th>\n",
       "      <th>15</th>\n",
       "      <th>16</th>\n",
       "      <th>17</th>\n",
       "      <th>18</th>\n",
       "      <th>19</th>\n",
       "      <th>20</th>\n",
       "      <th>21</th>\n",
       "    </tr>\n",
       "  </thead>\n",
       "  <tbody>\n",
       "    <tr>\n",
       "      <th>0</th>\n",
       "      <td>商品名称：华为MateBook D</td>\n",
       "      <td>商品编号：100032149194</td>\n",
       "      <td>商品毛重：2.15kg</td>\n",
       "      <td>商品产地：中国大陆</td>\n",
       "      <td>内存容量：8GB</td>\n",
       "      <td>系列：华为 - MateBookD</td>\n",
       "      <td>机械硬盘：无机械硬盘</td>\n",
       "      <td>特性：指纹识别，全面屏，Wi-Fi 6</td>\n",
       "      <td>支持IPv6：支持IPv6</td>\n",
       "      <td>屏幕尺寸：14.0-14.9英寸</td>\n",
       "      <td>...</td>\n",
       "      <td>厚度：15.1-18.0mm</td>\n",
       "      <td>屏幕刷新率：60Hz</td>\n",
       "      <td>类型：轻薄笔记本</td>\n",
       "      <td>系统：Windows 11</td>\n",
       "      <td>显卡型号：集成显卡</td>\n",
       "      <td>显卡芯片供应商：Intel</td>\n",
       "      <td>固态硬盘（SSD）：512GB</td>\n",
       "      <td>颜色：银色</td>\n",
       "      <td>None</td>\n",
       "      <td>None</td>\n",
       "    </tr>\n",
       "    <tr>\n",
       "      <th>1</th>\n",
       "      <td>商品名称：惠普HP ZHAN 66 Pro A 14 G5</td>\n",
       "      <td>商品编号：100032226552</td>\n",
       "      <td>商品毛重：2.19kg</td>\n",
       "      <td>商品产地：中国大陆</td>\n",
       "      <td>货号：641R8PC</td>\n",
       "      <td>屏幕色域：100%sRGB</td>\n",
       "      <td>类型：轻薄笔记本</td>\n",
       "      <td>系统：Windows 11</td>\n",
       "      <td>厚度：18.1-20.0mm</td>\n",
       "      <td>特性：内存可扩展，面部识别，长续航</td>\n",
       "      <td>...</td>\n",
       "      <td>支持IPv6：支持IPv6</td>\n",
       "      <td>颜色：银色</td>\n",
       "      <td>处理器：AMD R5</td>\n",
       "      <td>屏幕刷新率：60Hz</td>\n",
       "      <td>优选服务：上门服务，一年质保</td>\n",
       "      <td>显卡芯片供应商：AMD</td>\n",
       "      <td>显卡型号：集成显卡</td>\n",
       "      <td>屏幕尺寸：14.0-14.9英寸</td>\n",
       "      <td>固态硬盘（SSD）：512GB</td>\n",
       "      <td>机械硬盘：无机械硬盘</td>\n",
       "    </tr>\n",
       "    <tr>\n",
       "      <th>2</th>\n",
       "      <td>商品名称：华为MateBook D</td>\n",
       "      <td>商品编号：100016960357</td>\n",
       "      <td>商品毛重：2.16kg</td>\n",
       "      <td>商品产地：中国大陆</td>\n",
       "      <td>屏幕色域：100%sRGB</td>\n",
       "      <td>类型：轻薄笔记本</td>\n",
       "      <td>系统：Windows 11</td>\n",
       "      <td>厚度：15.1-18.0mm</td>\n",
       "      <td>显卡芯片供应商：Intel</td>\n",
       "      <td>内存容量：16GB</td>\n",
       "      <td>...</td>\n",
       "      <td>颜色：银色</td>\n",
       "      <td>处理器：intel i5</td>\n",
       "      <td>屏幕刷新率：60Hz</td>\n",
       "      <td>屏幕尺寸：14.0-14.9英寸</td>\n",
       "      <td>特性：指纹识别，大内存（16GB及以上），Wi-Fi 6</td>\n",
       "      <td>显卡型号：集成显卡</td>\n",
       "      <td>优选服务：两年质保</td>\n",
       "      <td>固态硬盘（SSD）：512GB</td>\n",
       "      <td>机械硬盘：无机械硬盘</td>\n",
       "      <td>None</td>\n",
       "    </tr>\n",
       "  </tbody>\n",
       "</table>\n",
       "<p>3 rows × 22 columns</p>\n",
       "</div>"
      ],
      "text/plain": [
       "                               0                  1            2          3   \\\n",
       "0               商品名称：华为MateBook D  商品编号：100032149194  商品毛重：2.15kg  商品产地：中国大陆   \n",
       "1  商品名称：惠普HP ZHAN 66 Pro A 14 G5   商品编号：100032226552  商品毛重：2.19kg  商品产地：中国大陆   \n",
       "2               商品名称：华为MateBook D  商品编号：100016960357  商品毛重：2.16kg  商品产地：中国大陆   \n",
       "\n",
       "              4                  5              6                    7   \\\n",
       "0       内存容量：8GB  系列：华为 - MateBookD     机械硬盘：无机械硬盘  特性：指纹识别，全面屏，Wi-Fi 6   \n",
       "1     货号：641R8PC      屏幕色域：100%sRGB       类型：轻薄笔记本        系统：Windows 11   \n",
       "2  屏幕色域：100%sRGB           类型：轻薄笔记本  系统：Windows 11       厚度：15.1-18.0mm   \n",
       "\n",
       "               8                  9   ...              12            13  \\\n",
       "0   支持IPv6：支持IPv6   屏幕尺寸：14.0-14.9英寸  ...  厚度：15.1-18.0mm    屏幕刷新率：60Hz   \n",
       "1  厚度：18.1-20.0mm  特性：内存可扩展，面部识别，长续航  ...   支持IPv6：支持IPv6         颜色：银色   \n",
       "2   显卡芯片供应商：Intel          内存容量：16GB  ...           颜色：银色  处理器：intel i5   \n",
       "\n",
       "           14                15                            16             17  \\\n",
       "0    类型：轻薄笔记本     系统：Windows 11                     显卡型号：集成显卡  显卡芯片供应商：Intel   \n",
       "1  处理器：AMD R5        屏幕刷新率：60Hz                优选服务：上门服务，一年质保    显卡芯片供应商：AMD   \n",
       "2  屏幕刷新率：60Hz  屏幕尺寸：14.0-14.9英寸  特性：指纹识别，大内存（16GB及以上），Wi-Fi 6      显卡型号：集成显卡   \n",
       "\n",
       "                18                19               20          21  \n",
       "0  固态硬盘（SSD）：512GB             颜色：银色             None        None  \n",
       "1        显卡型号：集成显卡  屏幕尺寸：14.0-14.9英寸  固态硬盘（SSD）：512GB  机械硬盘：无机械硬盘  \n",
       "2        优选服务：两年质保   固态硬盘（SSD）：512GB       机械硬盘：无机械硬盘        None  \n",
       "\n",
       "[3 rows x 22 columns]"
      ]
     },
     "execution_count": 7,
     "metadata": {},
     "output_type": "execute_result"
    }
   ],
   "source": [
    "data"
   ]
  },
  {
   "cell_type": "code",
   "execution_count": null,
   "id": "28608011",
   "metadata": {},
   "outputs": [],
   "source": []
  }
 ],
 "metadata": {
  "kernelspec": {
   "display_name": "Python 3 (ipykernel)",
   "language": "python",
   "name": "python3"
  },
  "language_info": {
   "codemirror_mode": {
    "name": "ipython",
    "version": 3
   },
   "file_extension": ".py",
   "mimetype": "text/x-python",
   "name": "python",
   "nbconvert_exporter": "python",
   "pygments_lexer": "ipython3",
   "version": "3.9.7"
  }
 },
 "nbformat": 4,
 "nbformat_minor": 5
}
