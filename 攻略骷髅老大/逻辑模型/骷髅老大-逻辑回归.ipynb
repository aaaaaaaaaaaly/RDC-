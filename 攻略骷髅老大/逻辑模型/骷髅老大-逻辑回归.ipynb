{
 "cells": [
  {
   "cell_type": "code",
   "execution_count": 1,
   "id": "3816a2e7",
   "metadata": {},
   "outputs": [
    {
     "data": {
      "text/plain": [
       "True"
      ]
     },
     "execution_count": 1,
     "metadata": {},
     "output_type": "execute_result"
    }
   ],
   "source": [
    "import numpy as np\n",
    "import pandas as pd\n",
    "import matplotlib.pyplot as plt\n",
    "import matplotlib as plt_2\n",
    "\n",
    "#对中文字符的处理\n",
    "plt.rcParams['font.sans-serif']=['Microsoft YaHei']\n",
    "#让坐标轴能够正常显示正负号\n",
    "plt.rcParams['axes.unicode_minus']"
   ]
  },
  {
   "cell_type": "markdown",
   "id": "475fa1ff",
   "metadata": {},
   "source": [
    "**数据导入初处理**"
   ]
  },
  {
   "cell_type": "code",
   "execution_count": 2,
   "id": "74d6dcd4",
   "metadata": {},
   "outputs": [],
   "source": [
    "data= pd.read_csv(\"data_2_1_clean.csv\")\n",
    "data.drop(['Unnamed: 0'],axis=1,inplace=True)"
   ]
  },
  {
   "cell_type": "code",
   "execution_count": 3,
   "id": "fbb92506",
   "metadata": {},
   "outputs": [],
   "source": [
    "cols=data.shape[1]\n",
    "data_x=data.iloc[:,1:cols-1]\n",
    "data_y=data['满足']"
   ]
  },
  {
   "cell_type": "markdown",
   "id": "96353e74",
   "metadata": {},
   "source": [
    "- 给data_x插入x0列"
   ]
  },
  {
   "cell_type": "code",
   "execution_count": 4,
   "id": "bdd38c51",
   "metadata": {},
   "outputs": [
    {
     "data": {
      "text/plain": [
       "(116502, 12)"
      ]
     },
     "execution_count": 4,
     "metadata": {},
     "output_type": "execute_result"
    }
   ],
   "source": [
    "data_x.shape\n",
    "#m*(n+1)"
   ]
  },
  {
   "cell_type": "code",
   "execution_count": 5,
   "id": "96abd80b",
   "metadata": {},
   "outputs": [
    {
     "data": {
      "text/plain": [
       "(116502,)"
      ]
     },
     "execution_count": 5,
     "metadata": {},
     "output_type": "execute_result"
    }
   ],
   "source": [
    "data_y.shape\n",
    "#m*1"
   ]
  },
  {
   "cell_type": "code",
   "execution_count": 6,
   "id": "f0d62729",
   "metadata": {
    "scrolled": true
   },
   "outputs": [
    {
     "data": {
      "text/html": [
       "<div>\n",
       "<style scoped>\n",
       "    .dataframe tbody tr th:only-of-type {\n",
       "        vertical-align: middle;\n",
       "    }\n",
       "\n",
       "    .dataframe tbody tr th {\n",
       "        vertical-align: top;\n",
       "    }\n",
       "\n",
       "    .dataframe thead th {\n",
       "        text-align: right;\n",
       "    }\n",
       "</style>\n",
       "<table border=\"1\" class=\"dataframe\">\n",
       "  <thead>\n",
       "    <tr style=\"text-align: right;\">\n",
       "      <th></th>\n",
       "      <th>年龄</th>\n",
       "      <th>飞行距离</th>\n",
       "      <th>机上wifi服务</th>\n",
       "      <th>方便在线预订</th>\n",
       "      <th>餐饮</th>\n",
       "      <th>在线登机</th>\n",
       "      <th>座位舒适度</th>\n",
       "      <th>机上娱乐</th>\n",
       "      <th>腿部空间服务</th>\n",
       "      <th>行李处理</th>\n",
       "      <th>值机服务</th>\n",
       "    </tr>\n",
       "  </thead>\n",
       "  <tbody>\n",
       "    <tr>\n",
       "      <th>0</th>\n",
       "      <td>13</td>\n",
       "      <td>460</td>\n",
       "      <td>3</td>\n",
       "      <td>3</td>\n",
       "      <td>5</td>\n",
       "      <td>3</td>\n",
       "      <td>5</td>\n",
       "      <td>5</td>\n",
       "      <td>3</td>\n",
       "      <td>4</td>\n",
       "      <td>4</td>\n",
       "    </tr>\n",
       "    <tr>\n",
       "      <th>1</th>\n",
       "      <td>25</td>\n",
       "      <td>235</td>\n",
       "      <td>3</td>\n",
       "      <td>3</td>\n",
       "      <td>1</td>\n",
       "      <td>3</td>\n",
       "      <td>1</td>\n",
       "      <td>1</td>\n",
       "      <td>5</td>\n",
       "      <td>3</td>\n",
       "      <td>1</td>\n",
       "    </tr>\n",
       "    <tr>\n",
       "      <th>2</th>\n",
       "      <td>26</td>\n",
       "      <td>1142</td>\n",
       "      <td>2</td>\n",
       "      <td>2</td>\n",
       "      <td>5</td>\n",
       "      <td>5</td>\n",
       "      <td>5</td>\n",
       "      <td>5</td>\n",
       "      <td>3</td>\n",
       "      <td>4</td>\n",
       "      <td>4</td>\n",
       "    </tr>\n",
       "    <tr>\n",
       "      <th>3</th>\n",
       "      <td>25</td>\n",
       "      <td>562</td>\n",
       "      <td>2</td>\n",
       "      <td>5</td>\n",
       "      <td>2</td>\n",
       "      <td>2</td>\n",
       "      <td>2</td>\n",
       "      <td>2</td>\n",
       "      <td>5</td>\n",
       "      <td>3</td>\n",
       "      <td>1</td>\n",
       "    </tr>\n",
       "    <tr>\n",
       "      <th>4</th>\n",
       "      <td>61</td>\n",
       "      <td>214</td>\n",
       "      <td>3</td>\n",
       "      <td>3</td>\n",
       "      <td>4</td>\n",
       "      <td>5</td>\n",
       "      <td>5</td>\n",
       "      <td>3</td>\n",
       "      <td>4</td>\n",
       "      <td>4</td>\n",
       "      <td>3</td>\n",
       "    </tr>\n",
       "    <tr>\n",
       "      <th>...</th>\n",
       "      <td>...</td>\n",
       "      <td>...</td>\n",
       "      <td>...</td>\n",
       "      <td>...</td>\n",
       "      <td>...</td>\n",
       "      <td>...</td>\n",
       "      <td>...</td>\n",
       "      <td>...</td>\n",
       "      <td>...</td>\n",
       "      <td>...</td>\n",
       "      <td>...</td>\n",
       "    </tr>\n",
       "    <tr>\n",
       "      <th>4995</th>\n",
       "      <td>55</td>\n",
       "      <td>644</td>\n",
       "      <td>2</td>\n",
       "      <td>3</td>\n",
       "      <td>3</td>\n",
       "      <td>5</td>\n",
       "      <td>5</td>\n",
       "      <td>4</td>\n",
       "      <td>4</td>\n",
       "      <td>4</td>\n",
       "      <td>4</td>\n",
       "    </tr>\n",
       "    <tr>\n",
       "      <th>4996</th>\n",
       "      <td>49</td>\n",
       "      <td>372</td>\n",
       "      <td>4</td>\n",
       "      <td>1</td>\n",
       "      <td>4</td>\n",
       "      <td>4</td>\n",
       "      <td>4</td>\n",
       "      <td>4</td>\n",
       "      <td>5</td>\n",
       "      <td>4</td>\n",
       "      <td>3</td>\n",
       "    </tr>\n",
       "    <tr>\n",
       "      <th>4997</th>\n",
       "      <td>51</td>\n",
       "      <td>642</td>\n",
       "      <td>1</td>\n",
       "      <td>1</td>\n",
       "      <td>2</td>\n",
       "      <td>1</td>\n",
       "      <td>2</td>\n",
       "      <td>2</td>\n",
       "      <td>4</td>\n",
       "      <td>5</td>\n",
       "      <td>4</td>\n",
       "    </tr>\n",
       "    <tr>\n",
       "      <th>4998</th>\n",
       "      <td>52</td>\n",
       "      <td>587</td>\n",
       "      <td>5</td>\n",
       "      <td>5</td>\n",
       "      <td>3</td>\n",
       "      <td>5</td>\n",
       "      <td>3</td>\n",
       "      <td>3</td>\n",
       "      <td>5</td>\n",
       "      <td>4</td>\n",
       "      <td>5</td>\n",
       "    </tr>\n",
       "    <tr>\n",
       "      <th>4999</th>\n",
       "      <td>18</td>\n",
       "      <td>644</td>\n",
       "      <td>2</td>\n",
       "      <td>2</td>\n",
       "      <td>3</td>\n",
       "      <td>2</td>\n",
       "      <td>3</td>\n",
       "      <td>3</td>\n",
       "      <td>5</td>\n",
       "      <td>4</td>\n",
       "      <td>4</td>\n",
       "    </tr>\n",
       "  </tbody>\n",
       "</table>\n",
       "<p>5000 rows × 11 columns</p>\n",
       "</div>"
      ],
      "text/plain": [
       "      年龄  飞行距离  机上wifi服务  方便在线预订  餐饮  在线登机  座位舒适度  机上娱乐  腿部空间服务  行李处理  值机服务\n",
       "0     13   460         3       3   5     3      5     5       3     4     4\n",
       "1     25   235         3       3   1     3      1     1       5     3     1\n",
       "2     26  1142         2       2   5     5      5     5       3     4     4\n",
       "3     25   562         2       5   2     2      2     2       5     3     1\n",
       "4     61   214         3       3   4     5      5     3       4     4     3\n",
       "...   ..   ...       ...     ...  ..   ...    ...   ...     ...   ...   ...\n",
       "4995  55   644         2       3   3     5      5     4       4     4     4\n",
       "4996  49   372         4       1   4     4      4     4       5     4     3\n",
       "4997  51   642         1       1   2     1      2     2       4     5     4\n",
       "4998  52   587         5       5   3     5      3     3       5     4     5\n",
       "4999  18   644         2       2   3     2      3     3       5     4     4\n",
       "\n",
       "[5000 rows x 11 columns]"
      ]
     },
     "execution_count": 6,
     "metadata": {},
     "output_type": "execute_result"
    }
   ],
   "source": [
    "data_x=data_x[:5000]\n",
    "data_y=data_y[:5000]\n",
    "data_x.drop('客户ID',axis=1)"
   ]
  },
  {
   "cell_type": "markdown",
   "id": "6bef7b56",
   "metadata": {},
   "source": [
    "## 标准化"
   ]
  },
  {
   "cell_type": "code",
   "execution_count": 7,
   "id": "1a874b3d",
   "metadata": {},
   "outputs": [],
   "source": [
    "def z_score (data_x):\n",
    "    for i in data_x.columns.tolist():\n",
    "        inner=data_x[i]-data_x[i].mean()\n",
    "        data_x[i]=inner/data_x[i].std()\n",
    "    return data_x"
   ]
  },
  {
   "cell_type": "code",
   "execution_count": 8,
   "id": "c1399582",
   "metadata": {},
   "outputs": [],
   "source": [
    "z_score(data_x)\n",
    "data_x.insert(0,'x0',1)"
   ]
  },
  {
   "cell_type": "code",
   "execution_count": 9,
   "id": "c156b650",
   "metadata": {},
   "outputs": [
    {
     "data": {
      "text/html": [
       "<div>\n",
       "<style scoped>\n",
       "    .dataframe tbody tr th:only-of-type {\n",
       "        vertical-align: middle;\n",
       "    }\n",
       "\n",
       "    .dataframe tbody tr th {\n",
       "        vertical-align: top;\n",
       "    }\n",
       "\n",
       "    .dataframe thead th {\n",
       "        text-align: right;\n",
       "    }\n",
       "</style>\n",
       "<table border=\"1\" class=\"dataframe\">\n",
       "  <thead>\n",
       "    <tr style=\"text-align: right;\">\n",
       "      <th></th>\n",
       "      <th>x0</th>\n",
       "      <th>客户ID</th>\n",
       "      <th>年龄</th>\n",
       "      <th>飞行距离</th>\n",
       "      <th>机上wifi服务</th>\n",
       "      <th>方便在线预订</th>\n",
       "      <th>餐饮</th>\n",
       "      <th>在线登机</th>\n",
       "      <th>座位舒适度</th>\n",
       "      <th>机上娱乐</th>\n",
       "      <th>腿部空间服务</th>\n",
       "      <th>行李处理</th>\n",
       "      <th>值机服务</th>\n",
       "    </tr>\n",
       "  </thead>\n",
       "  <tbody>\n",
       "    <tr>\n",
       "      <th>0</th>\n",
       "      <td>1</td>\n",
       "      <td>0.138415</td>\n",
       "      <td>-1.694675</td>\n",
       "      <td>-0.710837</td>\n",
       "      <td>0.197801</td>\n",
       "      <td>0.181320</td>\n",
       "      <td>1.355162</td>\n",
       "      <td>-0.142212</td>\n",
       "      <td>1.213236</td>\n",
       "      <td>1.272186</td>\n",
       "      <td>-0.232536</td>\n",
       "      <td>0.331067</td>\n",
       "      <td>0.554208</td>\n",
       "    </tr>\n",
       "    <tr>\n",
       "      <th>1</th>\n",
       "      <td>1</td>\n",
       "      <td>-1.614364</td>\n",
       "      <td>-0.913011</td>\n",
       "      <td>-1.007425</td>\n",
       "      <td>0.197801</td>\n",
       "      <td>0.181320</td>\n",
       "      <td>-1.651299</td>\n",
       "      <td>-0.142212</td>\n",
       "      <td>-1.788338</td>\n",
       "      <td>-1.724365</td>\n",
       "      <td>1.290293</td>\n",
       "      <td>-0.514787</td>\n",
       "      <td>-1.820292</td>\n",
       "    </tr>\n",
       "    <tr>\n",
       "      <th>2</th>\n",
       "      <td>1</td>\n",
       "      <td>1.211103</td>\n",
       "      <td>-0.847872</td>\n",
       "      <td>0.188154</td>\n",
       "      <td>-0.562388</td>\n",
       "      <td>-0.536494</td>\n",
       "      <td>1.355162</td>\n",
       "      <td>1.333012</td>\n",
       "      <td>1.213236</td>\n",
       "      <td>1.272186</td>\n",
       "      <td>-0.232536</td>\n",
       "      <td>0.331067</td>\n",
       "      <td>0.554208</td>\n",
       "    </tr>\n",
       "    <tr>\n",
       "      <th>3</th>\n",
       "      <td>1</td>\n",
       "      <td>-1.103562</td>\n",
       "      <td>-0.913011</td>\n",
       "      <td>-0.576384</td>\n",
       "      <td>-0.562388</td>\n",
       "      <td>1.616947</td>\n",
       "      <td>-0.899683</td>\n",
       "      <td>-0.879823</td>\n",
       "      <td>-1.037945</td>\n",
       "      <td>-0.975227</td>\n",
       "      <td>1.290293</td>\n",
       "      <td>-0.514787</td>\n",
       "      <td>-1.820292</td>\n",
       "    </tr>\n",
       "    <tr>\n",
       "      <th>4</th>\n",
       "      <td>1</td>\n",
       "      <td>1.460623</td>\n",
       "      <td>1.431984</td>\n",
       "      <td>-1.035107</td>\n",
       "      <td>0.197801</td>\n",
       "      <td>0.181320</td>\n",
       "      <td>0.603547</td>\n",
       "      <td>1.333012</td>\n",
       "      <td>1.213236</td>\n",
       "      <td>-0.226090</td>\n",
       "      <td>0.528878</td>\n",
       "      <td>0.331067</td>\n",
       "      <td>-0.237292</td>\n",
       "    </tr>\n",
       "    <tr>\n",
       "      <th>...</th>\n",
       "      <td>...</td>\n",
       "      <td>...</td>\n",
       "      <td>...</td>\n",
       "      <td>...</td>\n",
       "      <td>...</td>\n",
       "      <td>...</td>\n",
       "      <td>...</td>\n",
       "      <td>...</td>\n",
       "      <td>...</td>\n",
       "      <td>...</td>\n",
       "      <td>...</td>\n",
       "      <td>...</td>\n",
       "      <td>...</td>\n",
       "    </tr>\n",
       "    <tr>\n",
       "      <th>4995</th>\n",
       "      <td>1</td>\n",
       "      <td>1.655454</td>\n",
       "      <td>1.041151</td>\n",
       "      <td>-0.468294</td>\n",
       "      <td>-0.562388</td>\n",
       "      <td>0.181320</td>\n",
       "      <td>-0.148068</td>\n",
       "      <td>1.333012</td>\n",
       "      <td>1.213236</td>\n",
       "      <td>0.523048</td>\n",
       "      <td>0.528878</td>\n",
       "      <td>0.331067</td>\n",
       "      <td>0.554208</td>\n",
       "    </tr>\n",
       "    <tr>\n",
       "      <th>4996</th>\n",
       "      <td>1</td>\n",
       "      <td>-1.710851</td>\n",
       "      <td>0.650319</td>\n",
       "      <td>-0.826836</td>\n",
       "      <td>0.957990</td>\n",
       "      <td>-1.254308</td>\n",
       "      <td>0.603547</td>\n",
       "      <td>0.595400</td>\n",
       "      <td>0.462843</td>\n",
       "      <td>0.523048</td>\n",
       "      <td>1.290293</td>\n",
       "      <td>0.331067</td>\n",
       "      <td>-0.237292</td>\n",
       "    </tr>\n",
       "    <tr>\n",
       "      <th>4997</th>\n",
       "      <td>1</td>\n",
       "      <td>-1.595013</td>\n",
       "      <td>0.780597</td>\n",
       "      <td>-0.470930</td>\n",
       "      <td>-1.322576</td>\n",
       "      <td>-1.254308</td>\n",
       "      <td>-0.899683</td>\n",
       "      <td>-1.617435</td>\n",
       "      <td>-1.037945</td>\n",
       "      <td>-0.975227</td>\n",
       "      <td>0.528878</td>\n",
       "      <td>1.176921</td>\n",
       "      <td>0.554208</td>\n",
       "    </tr>\n",
       "    <tr>\n",
       "      <th>4998</th>\n",
       "      <td>1</td>\n",
       "      <td>0.871663</td>\n",
       "      <td>0.845735</td>\n",
       "      <td>-0.543430</td>\n",
       "      <td>1.718179</td>\n",
       "      <td>1.616947</td>\n",
       "      <td>-0.148068</td>\n",
       "      <td>1.333012</td>\n",
       "      <td>-0.287551</td>\n",
       "      <td>-0.226090</td>\n",
       "      <td>1.290293</td>\n",
       "      <td>0.331067</td>\n",
       "      <td>1.345709</td>\n",
       "    </tr>\n",
       "    <tr>\n",
       "      <th>4999</th>\n",
       "      <td>1</td>\n",
       "      <td>1.655885</td>\n",
       "      <td>-1.368982</td>\n",
       "      <td>-0.468294</td>\n",
       "      <td>-0.562388</td>\n",
       "      <td>-0.536494</td>\n",
       "      <td>-0.148068</td>\n",
       "      <td>-0.879823</td>\n",
       "      <td>-0.287551</td>\n",
       "      <td>-0.226090</td>\n",
       "      <td>1.290293</td>\n",
       "      <td>0.331067</td>\n",
       "      <td>0.554208</td>\n",
       "    </tr>\n",
       "  </tbody>\n",
       "</table>\n",
       "<p>5000 rows × 13 columns</p>\n",
       "</div>"
      ],
      "text/plain": [
       "      x0      客户ID        年龄      飞行距离  机上wifi服务    方便在线预订        餐饮  \\\n",
       "0      1  0.138415 -1.694675 -0.710837  0.197801  0.181320  1.355162   \n",
       "1      1 -1.614364 -0.913011 -1.007425  0.197801  0.181320 -1.651299   \n",
       "2      1  1.211103 -0.847872  0.188154 -0.562388 -0.536494  1.355162   \n",
       "3      1 -1.103562 -0.913011 -0.576384 -0.562388  1.616947 -0.899683   \n",
       "4      1  1.460623  1.431984 -1.035107  0.197801  0.181320  0.603547   \n",
       "...   ..       ...       ...       ...       ...       ...       ...   \n",
       "4995   1  1.655454  1.041151 -0.468294 -0.562388  0.181320 -0.148068   \n",
       "4996   1 -1.710851  0.650319 -0.826836  0.957990 -1.254308  0.603547   \n",
       "4997   1 -1.595013  0.780597 -0.470930 -1.322576 -1.254308 -0.899683   \n",
       "4998   1  0.871663  0.845735 -0.543430  1.718179  1.616947 -0.148068   \n",
       "4999   1  1.655885 -1.368982 -0.468294 -0.562388 -0.536494 -0.148068   \n",
       "\n",
       "          在线登机     座位舒适度      机上娱乐    腿部空间服务      行李处理      值机服务  \n",
       "0    -0.142212  1.213236  1.272186 -0.232536  0.331067  0.554208  \n",
       "1    -0.142212 -1.788338 -1.724365  1.290293 -0.514787 -1.820292  \n",
       "2     1.333012  1.213236  1.272186 -0.232536  0.331067  0.554208  \n",
       "3    -0.879823 -1.037945 -0.975227  1.290293 -0.514787 -1.820292  \n",
       "4     1.333012  1.213236 -0.226090  0.528878  0.331067 -0.237292  \n",
       "...        ...       ...       ...       ...       ...       ...  \n",
       "4995  1.333012  1.213236  0.523048  0.528878  0.331067  0.554208  \n",
       "4996  0.595400  0.462843  0.523048  1.290293  0.331067 -0.237292  \n",
       "4997 -1.617435 -1.037945 -0.975227  0.528878  1.176921  0.554208  \n",
       "4998  1.333012 -0.287551 -0.226090  1.290293  0.331067  1.345709  \n",
       "4999 -0.879823 -0.287551 -0.226090  1.290293  0.331067  0.554208  \n",
       "\n",
       "[5000 rows x 13 columns]"
      ]
     },
     "execution_count": 9,
     "metadata": {},
     "output_type": "execute_result"
    }
   ],
   "source": [
    "data_x"
   ]
  },
  {
   "cell_type": "markdown",
   "id": "f18cf2b0",
   "metadata": {},
   "source": [
    "## 定义函数"
   ]
  },
  {
   "cell_type": "markdown",
   "id": "fb640b9a",
   "metadata": {},
   "source": [
    "首先我们需要定义函数来获得我们需要的theta，然后配合sigmoid函数来进行分类，选择出最接近可能的。\n",
    "阈值一般设置为0.5，在正式组装的主程序会讨论~"
   ]
  },
  {
   "cell_type": "markdown",
   "id": "4b3cdb3e",
   "metadata": {},
   "source": [
    "- sigmoid函数"
   ]
  },
  {
   "cell_type": "code",
   "execution_count": 10,
   "id": "8edd32ea",
   "metadata": {},
   "outputs": [],
   "source": [
    "def sigmoid (z):\n",
    "    return 1/(1+np.exp(-z))\n",
    "\n",
    "#x=m*(1+n),y=m*1,theta=1*(1+n)\n",
    "#z=x*theta.T"
   ]
  },
  {
   "cell_type": "markdown",
   "id": "8466fb15",
   "metadata": {},
   "source": [
    "- 利用极大似然估计求出来的二分类代价函数，凸函数;用来判断tehta是否最佳，当然--也要让这个代价函数最小"
   ]
  },
  {
   "cell_type": "code",
   "execution_count": 11,
   "id": "2771692b",
   "metadata": {},
   "outputs": [],
   "source": [
    "def cost (w,x,y):\n",
    "    w=np.matrix(w)\n",
    "    x=np.matrix(x)\n",
    "    y=np.matrix(y)\n",
    "    F1=np.multiply(y,np.log(sigmoid(x.dot(w.T)+1e-5)))\n",
    "    F2=np.multiply(1-y,np.log(1-sigmoid(x.dot(w.T))+1e-5))\n",
    "    return np.sum(-F1-F2)/len(x)"
   ]
  },
  {
   "cell_type": "markdown",
   "id": "89fe5984",
   "metadata": {},
   "source": [
    "- 进行第一次组装，目的是为了通过测试集获得最适合的**theta**,其实也就是和线性梯度下降一样的流程"
   ]
  },
  {
   "cell_type": "code",
   "execution_count": 12,
   "id": "94a04f10",
   "metadata": {},
   "outputs": [
    {
     "name": "stdout",
     "output_type": "stream",
     "text": [
      "(5000, 13)\n",
      "(5000,)\n",
      "(1, 13)\n"
     ]
    }
   ],
   "source": [
    "print(data_x.shape)\n",
    "print(data_y.shape)\n",
    "theta=np.zeros((1,data_x.shape[1]))\n",
    "print(theta.shape)"
   ]
  },
  {
   "cell_type": "code",
   "execution_count": 13,
   "id": "fa5cd826",
   "metadata": {},
   "outputs": [],
   "source": [
    "def logic_function (data_x,data_y,alpha,interations):\n",
    "    \n",
    "    n=data_x.shape[1]\n",
    "    data_x=np.matrix(data_x)\n",
    "    data_y=np.matrix(data_y)\n",
    "    \n",
    "    theta=np.random.normal(size=(1,n))#1*n\n",
    "    cost_following=np.zeros(interations)\n",
    "    \n",
    "    for i in range(interations):\n",
    "        z=data_x.dot(theta.T)#m*n*n*1==m*1\n",
    "        inner=sigmoid(z)-data_y#m*1\n",
    "        theta=theta-np.sum(inner.T.dot(data_x))*alpha#1*n-1m*m*n\n",
    "        cost_following[i]=cost(theta,data_x,data_y)\n",
    "    return theta,cost_following"
   ]
  },
  {
   "cell_type": "code",
   "execution_count": 14,
   "id": "9044a67b",
   "metadata": {},
   "outputs": [],
   "source": [
    "theta,loss=logic_function(data_x,data_y,0.0000000000001,500)"
   ]
  },
  {
   "cell_type": "markdown",
   "id": "acb98734",
   "metadata": {},
   "source": [
    "## 画图查看loss变化"
   ]
  },
  {
   "cell_type": "code",
   "execution_count": 15,
   "id": "11d3cffb",
   "metadata": {},
   "outputs": [
    {
     "data": {
      "image/png": "[encoded data removed]",
      "text/plain": [
       "<Figure size 864x576 with 1 Axes>"
      ]
     },
     "metadata": {
      "needs_background": "light"
     },
     "output_type": "display_data"
    }
   ],
   "source": [
    "fig,ax=plt.subplots(figsize=(12,8))\n",
    "ax.plot(np.arange(500),loss,'r')\n",
    "ax.set_xlabel('迭代次数')\n",
    "ax.set_ylabel('代价',rotation=0)\n",
    "ax.set_title('loss跟踪变化示意')\n",
    "plt.show()"
   ]
  },
  {
   "cell_type": "code",
   "execution_count": 16,
   "id": "d2c639b2",
   "metadata": {},
   "outputs": [
    {
     "data": {
      "text/plain": [
       "array([[ 0.51078918, -0.27857024,  0.15298796,  0.39258451, -0.94321756,\n",
       "         1.44615889, -0.25491945,  0.68332977,  0.61732363,  1.1962298 ,\n",
       "         1.71386703, -0.68402582, -0.3613435 ]])"
      ]
     },
     "execution_count": 16,
     "metadata": {},
     "output_type": "execute_result"
    }
   ],
   "source": [
    "theta"
   ]
  },
  {
   "cell_type": "markdown",
   "id": "787112e1",
   "metadata": {},
   "source": [
    "## 模型评估"
   ]
  },
  {
   "cell_type": "markdown",
   "id": "1e90da12",
   "metadata": {},
   "source": [
    "## 精确率和召回率"
   ]
  },
  {
   "cell_type": "code",
   "execution_count": 17,
   "id": "7cf22447",
   "metadata": {},
   "outputs": [],
   "source": [
    "z=data_x.dot(theta.T)\n",
    "predict_y=sigmoid(z)"
   ]
  },
  {
   "cell_type": "code",
   "execution_count": 18,
   "id": "8e272a33",
   "metadata": {},
   "outputs": [
    {
     "data": {
      "text/html": [
       "<div>\n",
       "<style scoped>\n",
       "    .dataframe tbody tr th:only-of-type {\n",
       "        vertical-align: middle;\n",
       "    }\n",
       "\n",
       "    .dataframe tbody tr th {\n",
       "        vertical-align: top;\n",
       "    }\n",
       "\n",
       "    .dataframe thead th {\n",
       "        text-align: right;\n",
       "    }\n",
       "</style>\n",
       "<table border=\"1\" class=\"dataframe\">\n",
       "  <thead>\n",
       "    <tr style=\"text-align: right;\">\n",
       "      <th></th>\n",
       "      <th>0</th>\n",
       "    </tr>\n",
       "  </thead>\n",
       "  <tbody>\n",
       "    <tr>\n",
       "      <th>0</th>\n",
       "      <td>1.012447</td>\n",
       "    </tr>\n",
       "    <tr>\n",
       "      <th>1</th>\n",
       "      <td>0.879290</td>\n",
       "    </tr>\n",
       "    <tr>\n",
       "      <th>2</th>\n",
       "      <td>1.883124</td>\n",
       "    </tr>\n",
       "    <tr>\n",
       "      <th>3</th>\n",
       "      <td>4.363128</td>\n",
       "    </tr>\n",
       "    <tr>\n",
       "      <th>4</th>\n",
       "      <td>1.993508</td>\n",
       "    </tr>\n",
       "    <tr>\n",
       "      <th>...</th>\n",
       "      <td>...</td>\n",
       "    </tr>\n",
       "    <tr>\n",
       "      <th>4995</th>\n",
       "      <td>3.620725</td>\n",
       "    </tr>\n",
       "    <tr>\n",
       "      <th>4996</th>\n",
       "      <td>1.279832</td>\n",
       "    </tr>\n",
       "    <tr>\n",
       "      <th>4997</th>\n",
       "      <td>-2.458911</td>\n",
       "    </tr>\n",
       "    <tr>\n",
       "      <th>4998</th>\n",
       "      <td>2.901095</td>\n",
       "    </tr>\n",
       "    <tr>\n",
       "      <th>4999</th>\n",
       "      <td>0.184066</td>\n",
       "    </tr>\n",
       "  </tbody>\n",
       "</table>\n",
       "<p>5000 rows × 1 columns</p>\n",
       "</div>"
      ],
      "text/plain": [
       "             0\n",
       "0     1.012447\n",
       "1     0.879290\n",
       "2     1.883124\n",
       "3     4.363128\n",
       "4     1.993508\n",
       "...        ...\n",
       "4995  3.620725\n",
       "4996  1.279832\n",
       "4997 -2.458911\n",
       "4998  2.901095\n",
       "4999  0.184066\n",
       "\n",
       "[5000 rows x 1 columns]"
      ]
     },
     "execution_count": 18,
     "metadata": {},
     "output_type": "execute_result"
    }
   ],
   "source": [
    "z"
   ]
  },
  {
   "cell_type": "code",
   "execution_count": 19,
   "id": "244f5c89",
   "metadata": {},
   "outputs": [],
   "source": [
    "#将pre值经过阈值赋值1或者0\n",
    "def predict_TF (predict_y1,threshold):\n",
    "    predict_y=np.array(predict_y1)\n",
    "    for i in range(len(predict_y)):\n",
    "        predict_y[i]=np.where(predict_y[i]>=threshold,1,0)\n",
    "    return predict_y"
   ]
  },
  {
   "cell_type": "code",
   "execution_count": 20,
   "id": "8b1c7ed9",
   "metadata": {},
   "outputs": [],
   "source": [
    "def cal_TFPN (data_y,predict_y1):\n",
    "    TP=TN=FP=FN=0#初始化\n",
    "    predict_y2=np.array(predict_y1)\n",
    "    for i in range(1,len(predict_y2)):\n",
    "        if predict_y2[i]==data_y[i] and predict_y2[i]==1:\n",
    "            TP+=1\n",
    "        elif predict_y2[i]==data_y[i] and predict_y2[i]==0:\n",
    "            TN+=1\n",
    "        elif predict_y2[i]!=data_y[i] and predict_y2[i]==1:\n",
    "            FP+=1\n",
    "        elif predict_y2[i]!=data_y[i] and predict_y2[i]==0:\n",
    "            FN+=1      \n",
    "    return TP,TN,FP,FN"
   ]
  },
  {
   "cell_type": "code",
   "execution_count": 21,
   "id": "1524ff78",
   "metadata": {},
   "outputs": [
    {
     "data": {
      "text/plain": [
       "count    5000.000000\n",
       "mean        0.409200\n",
       "std         0.491735\n",
       "min         0.000000\n",
       "25%         0.000000\n",
       "50%         0.000000\n",
       "75%         1.000000\n",
       "max         1.000000\n",
       "Name: 满足, dtype: float64"
      ]
     },
     "execution_count": 21,
     "metadata": {},
     "output_type": "execute_result"
    }
   ],
   "source": [
    "data_y.describe()"
   ]
  },
  {
   "cell_type": "code",
   "execution_count": 22,
   "id": "406a70ba",
   "metadata": {},
   "outputs": [
    {
     "data": {
      "text/html": [
       "<div>\n",
       "<style scoped>\n",
       "    .dataframe tbody tr th:only-of-type {\n",
       "        vertical-align: middle;\n",
       "    }\n",
       "\n",
       "    .dataframe tbody tr th {\n",
       "        vertical-align: top;\n",
       "    }\n",
       "\n",
       "    .dataframe thead th {\n",
       "        text-align: right;\n",
       "    }\n",
       "</style>\n",
       "<table border=\"1\" class=\"dataframe\">\n",
       "  <thead>\n",
       "    <tr style=\"text-align: right;\">\n",
       "      <th></th>\n",
       "      <th>0</th>\n",
       "    </tr>\n",
       "  </thead>\n",
       "  <tbody>\n",
       "    <tr>\n",
       "      <th>count</th>\n",
       "      <td>5000.000000</td>\n",
       "    </tr>\n",
       "    <tr>\n",
       "      <th>mean</th>\n",
       "      <td>0.564500</td>\n",
       "    </tr>\n",
       "    <tr>\n",
       "      <th>std</th>\n",
       "      <td>0.367427</td>\n",
       "    </tr>\n",
       "    <tr>\n",
       "      <th>min</th>\n",
       "      <td>0.000027</td>\n",
       "    </tr>\n",
       "    <tr>\n",
       "      <th>25%</th>\n",
       "      <td>0.180752</td>\n",
       "    </tr>\n",
       "    <tr>\n",
       "      <th>50%</th>\n",
       "      <td>0.630598</td>\n",
       "    </tr>\n",
       "    <tr>\n",
       "      <th>75%</th>\n",
       "      <td>0.937071</td>\n",
       "    </tr>\n",
       "    <tr>\n",
       "      <th>max</th>\n",
       "      <td>0.999821</td>\n",
       "    </tr>\n",
       "  </tbody>\n",
       "</table>\n",
       "</div>"
      ],
      "text/plain": [
       "                 0\n",
       "count  5000.000000\n",
       "mean      0.564500\n",
       "std       0.367427\n",
       "min       0.000027\n",
       "25%       0.180752\n",
       "50%       0.630598\n",
       "75%       0.937071\n",
       "max       0.999821"
      ]
     },
     "execution_count": 22,
     "metadata": {},
     "output_type": "execute_result"
    }
   ],
   "source": [
    "predict_y.describe()"
   ]
  },
  {
   "cell_type": "markdown",
   "id": "3efb61ab",
   "metadata": {},
   "source": [
    "**先对阈值划分小测试一下**"
   ]
  },
  {
   "cell_type": "code",
   "execution_count": 23,
   "id": "e618eed5",
   "metadata": {},
   "outputs": [],
   "source": [
    "predict_y1=predict_y\n",
    "predict_y1=predict_TF(predict_y1,0.53)\n",
    "TP,TN,FP,FN=cal_TFPN(data_y,predict_y1)"
   ]
  },
  {
   "cell_type": "code",
   "execution_count": 24,
   "id": "997d7cdf",
   "metadata": {},
   "outputs": [
    {
     "data": {
      "text/plain": [
       "array([[1.],\n",
       "       [1.],\n",
       "       [1.],\n",
       "       ...,\n",
       "       [0.],\n",
       "       [1.],\n",
       "       [1.]])"
      ]
     },
     "execution_count": 24,
     "metadata": {},
     "output_type": "execute_result"
    }
   ],
   "source": [
    "predict_y1"
   ]
  },
  {
   "cell_type": "code",
   "execution_count": 25,
   "id": "2669c1c4",
   "metadata": {},
   "outputs": [
    {
     "data": {
      "text/plain": [
       "0.671134226845369"
      ]
     },
     "execution_count": 25,
     "metadata": {},
     "output_type": "execute_result"
    }
   ],
   "source": [
    "ACC=(TP+TN)/(TP+TN+FP+FN)\n",
    "ACC"
   ]
  },
  {
   "cell_type": "code",
   "execution_count": 26,
   "id": "5548458b",
   "metadata": {},
   "outputs": [
    {
     "data": {
      "text/plain": [
       "0.7776148582600195"
      ]
     },
     "execution_count": 26,
     "metadata": {},
     "output_type": "execute_result"
    }
   ],
   "source": [
    "RECALL=TP/(TP+FN)\n",
    "RECALL"
   ]
  },
  {
   "cell_type": "markdown",
   "id": "c6280266",
   "metadata": {},
   "source": [
    "## ROC曲线和AUC"
   ]
  },
  {
   "cell_type": "code",
   "execution_count": 27,
   "id": "39acea35",
   "metadata": {},
   "outputs": [
    {
     "data": {
      "text/plain": [
       "0.7776148582600195"
      ]
     },
     "execution_count": 27,
     "metadata": {},
     "output_type": "execute_result"
    }
   ],
   "source": [
    "TPR=(TP)/(TP+FN)\n",
    "TPR"
   ]
  },
  {
   "cell_type": "code",
   "execution_count": 28,
   "id": "83a0f7b5",
   "metadata": {},
   "outputs": [],
   "source": [
    "#threshold是阈值的意思\n",
    "def ROC(y,pred):\n",
    "    threshold=0\n",
    "    interations=len(y)\n",
    "    TPR=np.zeros(interations)\n",
    "    FPR=np.zeros(interations)\n",
    "    AUC=0\n",
    "    \n",
    "    pred=np.array(pred)\n",
    "    \n",
    "    for i in range(interations):\n",
    "        threshold=pred[i]\n",
    "        \n",
    "        predict_y=predict_TF(pred,threshold)#根据阈值来划分1，0\n",
    "        TP,TN,FP,FN=cal_TFPN(y,predict_y)\n",
    "        \n",
    "        TPR[i]=(TP/(TP+FN))\n",
    "        FPR[i]=(FP/(FP+TN))\n",
    " \n",
    "    return TPR,FPR,AUC"
   ]
  },
  {
   "cell_type": "code",
   "execution_count": 29,
   "id": "36120738",
   "metadata": {},
   "outputs": [],
   "source": [
    "predict_y.columns=['Values']\n",
    "predict_y_sort=predict_y.sort_values(by='Values',ascending=False)"
   ]
  },
  {
   "cell_type": "code",
   "execution_count": 30,
   "id": "e41c1c3f",
   "metadata": {},
   "outputs": [],
   "source": [
    "TPR,FPR,AUC=ROC(data_y,predict_y_sort)"
   ]
  },
  {
   "cell_type": "markdown",
   "id": "f1e048f0",
   "metadata": {},
   "source": [
    "**画图**"
   ]
  },
  {
   "cell_type": "code",
   "execution_count": 31,
   "id": "3bb77b98",
   "metadata": {},
   "outputs": [
    {
     "data": {
      "image/png": "[encoded data removed]",
      "text/plain": [
       "<Figure size 432x288 with 1 Axes>"
      ]
     },
     "metadata": {
      "needs_background": "light"
     },
     "output_type": "display_data"
    }
   ],
   "source": [
    "plt.plot(FPR,TPR,color='g',label='ROC ')\n",
    "plt.title('ROC')\n",
    "plt.plot([(0,0),(1,1)],'r--')\n",
    "plt.xlim([0,1])\n",
    "plt.ylim([0,1])\n",
    "plt.ylabel('TPR')\n",
    "plt.xlabel('FPR')\n",
    "plt.legend(loc='best')\n",
    "plt.show()"
   ]
  },
  {
   "cell_type": "markdown",
   "id": "3812f08b",
   "metadata": {},
   "source": [
    "基本重合，就是说，模型很一般甚至不是很好.."
   ]
  },
  {
   "cell_type": "markdown",
   "id": "5219e06c",
   "metadata": {},
   "source": [
    "AUC约等于0.5"
   ]
  },
  {
   "cell_type": "code",
   "execution_count": null,
   "id": "a8326cce",
   "metadata": {},
   "outputs": [],
   "source": []
  }
 ],
 "metadata": {
  "kernelspec": {
   "display_name": "Python 3 (ipykernel)",
   "language": "python",
   "name": "python3"
  },
  "language_info": {
   "codemirror_mode": {
    "name": "ipython",
    "version": 3
   },
   "file_extension": ".py",
   "mimetype": "text/x-python",
   "name": "python",
   "nbconvert_exporter": "python",
   "pygments_lexer": "ipython3",
   "version": "3.9.7"
  }
 },
 "nbformat": 4,
 "nbformat_minor": 5
}
